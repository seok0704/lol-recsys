{
 "cells": [
  {
   "cell_type": "markdown",
   "metadata": {},
   "source": [
    "### Import Libraries"
   ]
  },
  {
   "cell_type": "code",
   "execution_count": 29,
   "metadata": {},
   "outputs": [],
   "source": [
    "# import required libraries\n",
    "import os\n",
    "import os.path\n",
    "import numpy as np\n",
    "import pandas as pd\n",
    "from math import sqrt\n",
    "from heapq import nlargest\n",
    "from tqdm import trange\n",
    "from tqdm.auto import tqdm\n",
    "from scipy import stats\n",
    "from sklearn.metrics.pairwise import pairwise_distances\n",
    "from sklearn.metrics import mean_squared_error\n",
    "\n",
    "from sklearn.model_selection import train_test_split\n",
    "from sklearn.model_selection import KFold\n",
    "\n",
    "import matplotlib.pyplot as plt"
   ]
  },
  {
   "cell_type": "markdown",
   "metadata": {},
   "source": [
    "### Readin Data"
   ]
  },
  {
   "cell_type": "code",
   "execution_count": 30,
   "metadata": {},
   "outputs": [],
   "source": [
    "champions_played_df = pd.read_csv(\"player_champions.csv\")"
   ]
  },
  {
   "cell_type": "code",
   "execution_count": 31,
   "metadata": {},
   "outputs": [],
   "source": [
    "champions_played_df = champions_played_df.iloc[:,1:]"
   ]
  },
  {
   "cell_type": "code",
   "execution_count": 32,
   "metadata": {},
   "outputs": [
    {
     "data": {
      "text/html": [
       "<div>\n",
       "<style scoped>\n",
       "    .dataframe tbody tr th:only-of-type {\n",
       "        vertical-align: middle;\n",
       "    }\n",
       "\n",
       "    .dataframe tbody tr th {\n",
       "        vertical-align: top;\n",
       "    }\n",
       "\n",
       "    .dataframe thead th {\n",
       "        text-align: right;\n",
       "    }\n",
       "</style>\n",
       "<table border=\"1\" class=\"dataframe\">\n",
       "  <thead>\n",
       "    <tr style=\"text-align: right;\">\n",
       "      <th></th>\n",
       "      <th>Summoner</th>\n",
       "      <th>Champion_Name</th>\n",
       "      <th>Champion_ID</th>\n",
       "      <th>Matches_Played</th>\n",
       "      <th>Normalized_Matches_Played</th>\n",
       "    </tr>\n",
       "  </thead>\n",
       "  <tbody>\n",
       "    <tr>\n",
       "      <th>0</th>\n",
       "      <td>Winston4</td>\n",
       "      <td>Olaf</td>\n",
       "      <td>82</td>\n",
       "      <td>195</td>\n",
       "      <td>0.280172</td>\n",
       "    </tr>\n",
       "    <tr>\n",
       "      <th>1</th>\n",
       "      <td>Winston4</td>\n",
       "      <td>Graves</td>\n",
       "      <td>36</td>\n",
       "      <td>79</td>\n",
       "      <td>0.113506</td>\n",
       "    </tr>\n",
       "    <tr>\n",
       "      <th>2</th>\n",
       "      <td>Winston4</td>\n",
       "      <td>Lee Sin</td>\n",
       "      <td>62</td>\n",
       "      <td>79</td>\n",
       "      <td>0.113506</td>\n",
       "    </tr>\n",
       "    <tr>\n",
       "      <th>3</th>\n",
       "      <td>Winston4</td>\n",
       "      <td>Elise</td>\n",
       "      <td>25</td>\n",
       "      <td>42</td>\n",
       "      <td>0.060345</td>\n",
       "    </tr>\n",
       "    <tr>\n",
       "      <th>4</th>\n",
       "      <td>Winston4</td>\n",
       "      <td>Gragas</td>\n",
       "      <td>35</td>\n",
       "      <td>40</td>\n",
       "      <td>0.057471</td>\n",
       "    </tr>\n",
       "    <tr>\n",
       "      <th>...</th>\n",
       "      <td>...</td>\n",
       "      <td>...</td>\n",
       "      <td>...</td>\n",
       "      <td>...</td>\n",
       "      <td>...</td>\n",
       "    </tr>\n",
       "    <tr>\n",
       "      <th>1691234</th>\n",
       "      <td>Röss</td>\n",
       "      <td>Lissandra</td>\n",
       "      <td>64</td>\n",
       "      <td>1</td>\n",
       "      <td>0.006993</td>\n",
       "    </tr>\n",
       "    <tr>\n",
       "      <th>1691235</th>\n",
       "      <td>Röss</td>\n",
       "      <td>Darius</td>\n",
       "      <td>20</td>\n",
       "      <td>1</td>\n",
       "      <td>0.006993</td>\n",
       "    </tr>\n",
       "    <tr>\n",
       "      <th>1691236</th>\n",
       "      <td>Röss</td>\n",
       "      <td>Rek'Sai</td>\n",
       "      <td>92</td>\n",
       "      <td>1</td>\n",
       "      <td>0.006993</td>\n",
       "    </tr>\n",
       "    <tr>\n",
       "      <th>1691237</th>\n",
       "      <td>Röss</td>\n",
       "      <td>Kayn</td>\n",
       "      <td>55</td>\n",
       "      <td>1</td>\n",
       "      <td>0.006993</td>\n",
       "    </tr>\n",
       "    <tr>\n",
       "      <th>1691238</th>\n",
       "      <td>Röss</td>\n",
       "      <td>Morgana</td>\n",
       "      <td>74</td>\n",
       "      <td>1</td>\n",
       "      <td>0.006993</td>\n",
       "    </tr>\n",
       "  </tbody>\n",
       "</table>\n",
       "<p>1691239 rows × 5 columns</p>\n",
       "</div>"
      ],
      "text/plain": [
       "         Summoner Champion_Name  Champion_ID  Matches_Played  \\\n",
       "0        Winston4          Olaf           82             195   \n",
       "1        Winston4        Graves           36              79   \n",
       "2        Winston4       Lee Sin           62              79   \n",
       "3        Winston4         Elise           25              42   \n",
       "4        Winston4        Gragas           35              40   \n",
       "...           ...           ...          ...             ...   \n",
       "1691234      Röss     Lissandra           64               1   \n",
       "1691235      Röss        Darius           20               1   \n",
       "1691236      Röss       Rek'Sai           92               1   \n",
       "1691237      Röss          Kayn           55               1   \n",
       "1691238      Röss       Morgana           74               1   \n",
       "\n",
       "         Normalized_Matches_Played  \n",
       "0                         0.280172  \n",
       "1                         0.113506  \n",
       "2                         0.113506  \n",
       "3                         0.060345  \n",
       "4                         0.057471  \n",
       "...                            ...  \n",
       "1691234                   0.006993  \n",
       "1691235                   0.006993  \n",
       "1691236                   0.006993  \n",
       "1691237                   0.006993  \n",
       "1691238                   0.006993  \n",
       "\n",
       "[1691239 rows x 5 columns]"
      ]
     },
     "execution_count": 32,
     "metadata": {},
     "output_type": "execute_result"
    }
   ],
   "source": [
    "champions_played_df"
   ]
  },
  {
   "cell_type": "code",
   "execution_count": 33,
   "metadata": {},
   "outputs": [],
   "source": [
    "champions_played_df['Summoner'] = champions_played_df['Summoner'].astype('category')\n",
    "champions_played_df[\"Summoner_ID\"] = champions_played_df[\"Summoner\"].cat.codes"
   ]
  },
  {
   "cell_type": "code",
   "execution_count": 34,
   "metadata": {},
   "outputs": [
    {
     "data": {
      "text/html": [
       "<div>\n",
       "<style scoped>\n",
       "    .dataframe tbody tr th:only-of-type {\n",
       "        vertical-align: middle;\n",
       "    }\n",
       "\n",
       "    .dataframe tbody tr th {\n",
       "        vertical-align: top;\n",
       "    }\n",
       "\n",
       "    .dataframe thead th {\n",
       "        text-align: right;\n",
       "    }\n",
       "</style>\n",
       "<table border=\"1\" class=\"dataframe\">\n",
       "  <thead>\n",
       "    <tr style=\"text-align: right;\">\n",
       "      <th></th>\n",
       "      <th>Summoner</th>\n",
       "      <th>Champion_Name</th>\n",
       "      <th>Champion_ID</th>\n",
       "      <th>Matches_Played</th>\n",
       "      <th>Normalized_Matches_Played</th>\n",
       "      <th>Summoner_ID</th>\n",
       "    </tr>\n",
       "  </thead>\n",
       "  <tbody>\n",
       "    <tr>\n",
       "      <th>0</th>\n",
       "      <td>Winston4</td>\n",
       "      <td>Olaf</td>\n",
       "      <td>82</td>\n",
       "      <td>195</td>\n",
       "      <td>0.280172</td>\n",
       "      <td>41320</td>\n",
       "    </tr>\n",
       "    <tr>\n",
       "      <th>1</th>\n",
       "      <td>Winston4</td>\n",
       "      <td>Graves</td>\n",
       "      <td>36</td>\n",
       "      <td>79</td>\n",
       "      <td>0.113506</td>\n",
       "      <td>41320</td>\n",
       "    </tr>\n",
       "    <tr>\n",
       "      <th>2</th>\n",
       "      <td>Winston4</td>\n",
       "      <td>Lee Sin</td>\n",
       "      <td>62</td>\n",
       "      <td>79</td>\n",
       "      <td>0.113506</td>\n",
       "      <td>41320</td>\n",
       "    </tr>\n",
       "    <tr>\n",
       "      <th>3</th>\n",
       "      <td>Winston4</td>\n",
       "      <td>Elise</td>\n",
       "      <td>25</td>\n",
       "      <td>42</td>\n",
       "      <td>0.060345</td>\n",
       "      <td>41320</td>\n",
       "    </tr>\n",
       "    <tr>\n",
       "      <th>4</th>\n",
       "      <td>Winston4</td>\n",
       "      <td>Gragas</td>\n",
       "      <td>35</td>\n",
       "      <td>40</td>\n",
       "      <td>0.057471</td>\n",
       "      <td>41320</td>\n",
       "    </tr>\n",
       "  </tbody>\n",
       "</table>\n",
       "</div>"
      ],
      "text/plain": [
       "   Summoner Champion_Name  Champion_ID  Matches_Played  \\\n",
       "0  Winston4          Olaf           82             195   \n",
       "1  Winston4        Graves           36              79   \n",
       "2  Winston4       Lee Sin           62              79   \n",
       "3  Winston4         Elise           25              42   \n",
       "4  Winston4        Gragas           35              40   \n",
       "\n",
       "   Normalized_Matches_Played  Summoner_ID  \n",
       "0                   0.280172        41320  \n",
       "1                   0.113506        41320  \n",
       "2                   0.113506        41320  \n",
       "3                   0.060345        41320  \n",
       "4                   0.057471        41320  "
      ]
     },
     "execution_count": 34,
     "metadata": {},
     "output_type": "execute_result"
    }
   ],
   "source": [
    "champions_played_df.head()"
   ]
  },
  {
   "cell_type": "code",
   "execution_count": 35,
   "metadata": {},
   "outputs": [],
   "source": [
    "champions_played_df['Champion_Name'] = champions_played_df['Champion_Name'].astype('category')\n",
    "champions_played_df[\"Champion_ID\"] = champions_played_df[\"Champion_Name\"].cat.codes\n",
    "df = champions_played_df[['Summoner_ID','Champion_ID','Normalized_Matches_Played']]"
   ]
  },
  {
   "cell_type": "code",
   "execution_count": 36,
   "metadata": {},
   "outputs": [
    {
     "data": {
      "text/html": [
       "<div>\n",
       "<style scoped>\n",
       "    .dataframe tbody tr th:only-of-type {\n",
       "        vertical-align: middle;\n",
       "    }\n",
       "\n",
       "    .dataframe tbody tr th {\n",
       "        vertical-align: top;\n",
       "    }\n",
       "\n",
       "    .dataframe thead th {\n",
       "        text-align: right;\n",
       "    }\n",
       "</style>\n",
       "<table border=\"1\" class=\"dataframe\">\n",
       "  <thead>\n",
       "    <tr style=\"text-align: right;\">\n",
       "      <th></th>\n",
       "      <th>Summoner</th>\n",
       "      <th>Champion_Name</th>\n",
       "      <th>Champion_ID</th>\n",
       "      <th>Matches_Played</th>\n",
       "      <th>Normalized_Matches_Played</th>\n",
       "      <th>Summoner_ID</th>\n",
       "    </tr>\n",
       "  </thead>\n",
       "  <tbody>\n",
       "    <tr>\n",
       "      <th>0</th>\n",
       "      <td>Winston4</td>\n",
       "      <td>Olaf</td>\n",
       "      <td>82</td>\n",
       "      <td>195</td>\n",
       "      <td>0.280172</td>\n",
       "      <td>41320</td>\n",
       "    </tr>\n",
       "    <tr>\n",
       "      <th>1</th>\n",
       "      <td>Winston4</td>\n",
       "      <td>Graves</td>\n",
       "      <td>36</td>\n",
       "      <td>79</td>\n",
       "      <td>0.113506</td>\n",
       "      <td>41320</td>\n",
       "    </tr>\n",
       "    <tr>\n",
       "      <th>2</th>\n",
       "      <td>Winston4</td>\n",
       "      <td>Lee Sin</td>\n",
       "      <td>62</td>\n",
       "      <td>79</td>\n",
       "      <td>0.113506</td>\n",
       "      <td>41320</td>\n",
       "    </tr>\n",
       "    <tr>\n",
       "      <th>3</th>\n",
       "      <td>Winston4</td>\n",
       "      <td>Elise</td>\n",
       "      <td>25</td>\n",
       "      <td>42</td>\n",
       "      <td>0.060345</td>\n",
       "      <td>41320</td>\n",
       "    </tr>\n",
       "    <tr>\n",
       "      <th>4</th>\n",
       "      <td>Winston4</td>\n",
       "      <td>Gragas</td>\n",
       "      <td>35</td>\n",
       "      <td>40</td>\n",
       "      <td>0.057471</td>\n",
       "      <td>41320</td>\n",
       "    </tr>\n",
       "  </tbody>\n",
       "</table>\n",
       "</div>"
      ],
      "text/plain": [
       "   Summoner Champion_Name  Champion_ID  Matches_Played  \\\n",
       "0  Winston4          Olaf           82             195   \n",
       "1  Winston4        Graves           36              79   \n",
       "2  Winston4       Lee Sin           62              79   \n",
       "3  Winston4         Elise           25              42   \n",
       "4  Winston4        Gragas           35              40   \n",
       "\n",
       "   Normalized_Matches_Played  Summoner_ID  \n",
       "0                   0.280172        41320  \n",
       "1                   0.113506        41320  \n",
       "2                   0.113506        41320  \n",
       "3                   0.060345        41320  \n",
       "4                   0.057471        41320  "
      ]
     },
     "execution_count": 36,
     "metadata": {},
     "output_type": "execute_result"
    }
   ],
   "source": [
    "champions_played_df.head()"
   ]
  },
  {
   "cell_type": "code",
   "execution_count": 37,
   "metadata": {
    "scrolled": false
   },
   "outputs": [
    {
     "data": {
      "text/html": [
       "<div>\n",
       "<style scoped>\n",
       "    .dataframe tbody tr th:only-of-type {\n",
       "        vertical-align: middle;\n",
       "    }\n",
       "\n",
       "    .dataframe tbody tr th {\n",
       "        vertical-align: top;\n",
       "    }\n",
       "\n",
       "    .dataframe thead th {\n",
       "        text-align: right;\n",
       "    }\n",
       "</style>\n",
       "<table border=\"1\" class=\"dataframe\">\n",
       "  <thead>\n",
       "    <tr style=\"text-align: right;\">\n",
       "      <th></th>\n",
       "      <th>Summoner_ID</th>\n",
       "      <th>Champion_ID</th>\n",
       "      <th>Normalized_Matches_Played</th>\n",
       "    </tr>\n",
       "  </thead>\n",
       "  <tbody>\n",
       "    <tr>\n",
       "      <th>0</th>\n",
       "      <td>41320</td>\n",
       "      <td>82</td>\n",
       "      <td>0.280172</td>\n",
       "    </tr>\n",
       "    <tr>\n",
       "      <th>1</th>\n",
       "      <td>41320</td>\n",
       "      <td>36</td>\n",
       "      <td>0.113506</td>\n",
       "    </tr>\n",
       "    <tr>\n",
       "      <th>2</th>\n",
       "      <td>41320</td>\n",
       "      <td>62</td>\n",
       "      <td>0.113506</td>\n",
       "    </tr>\n",
       "    <tr>\n",
       "      <th>3</th>\n",
       "      <td>41320</td>\n",
       "      <td>25</td>\n",
       "      <td>0.060345</td>\n",
       "    </tr>\n",
       "    <tr>\n",
       "      <th>4</th>\n",
       "      <td>41320</td>\n",
       "      <td>35</td>\n",
       "      <td>0.057471</td>\n",
       "    </tr>\n",
       "  </tbody>\n",
       "</table>\n",
       "</div>"
      ],
      "text/plain": [
       "   Summoner_ID  Champion_ID  Normalized_Matches_Played\n",
       "0        41320           82                   0.280172\n",
       "1        41320           36                   0.113506\n",
       "2        41320           62                   0.113506\n",
       "3        41320           25                   0.060345\n",
       "4        41320           35                   0.057471"
      ]
     },
     "execution_count": 37,
     "metadata": {},
     "output_type": "execute_result"
    }
   ],
   "source": [
    "df.head()"
   ]
  },
  {
   "cell_type": "markdown",
   "metadata": {},
   "source": [
    "### Data Preprocessing\n"
   ]
  },
  {
   "cell_type": "markdown",
   "metadata": {},
   "source": [
    "For the champion recommender system, it will try to predict the matches played per champion and recommend champion with the highest predicted value, but as we saw in the EDA, the total matches played per summoner are diverse. This will add bias to the summoners with higher match counts which is not desirable. Therefore, we will normalize the matches played per champion with total champions so that all summoners are in the same scale."
   ]
  },
  {
   "cell_type": "code",
   "execution_count": 38,
   "metadata": {},
   "outputs": [
    {
     "name": "stdout",
     "output_type": "stream",
     "text": [
      "Number of users: 54478\n",
      "Number of items: 148\n"
     ]
    }
   ],
   "source": [
    "num_users = len(df.Summoner_ID.unique())\n",
    "num_items = len(df.Champion_ID.unique())\n",
    "print(\"Number of users:\", num_users)\n",
    "print(\"Number of items:\", num_items)"
   ]
  },
  {
   "cell_type": "code",
   "execution_count": 39,
   "metadata": {},
   "outputs": [],
   "source": [
    "def dataPreprocessor(df, num_users, num_items):\n",
    "    \"\"\"\n",
    "        INPUT: \n",
    "            data: pandas DataFrame. columns=['userID', 'itemID', 'rating' ...]\n",
    "            num_row: int. number of users\n",
    "            num_col: int. number of items\n",
    "            \n",
    "        OUTPUT:\n",
    "            matrix: 2D numpy array. \n",
    "            \n",
    "        NOTE 1: see where something very similar is done in the lab in function 'buildUserItemMatrix'    \n",
    "            \n",
    "        NOTE 2: data can have more columns, but your function should ignore \n",
    "              additional columns.\n",
    "    \"\"\"\n",
    "    ########### your code goes here ###########\n",
    "    matrix = np.zeros((num_users, num_items))\n",
    "    \n",
    "    for (index, userID, itemID, rating) in df.itertuples():\n",
    "        matrix[userID,itemID] = rating\n",
    "\n",
    "    ###########         end         ###########\n",
    "    return matrix"
   ]
  },
  {
   "cell_type": "code",
   "execution_count": 40,
   "metadata": {},
   "outputs": [],
   "source": [
    "df_sparse = dataPreprocessor(df, num_users, num_items)"
   ]
  },
  {
   "cell_type": "code",
   "execution_count": 41,
   "metadata": {
    "scrolled": false
   },
   "outputs": [
    {
     "data": {
      "text/plain": [
       "array([[0.        , 0.        , 0.        , ..., 0.00775194, 0.        ,\n",
       "        0.        ],\n",
       "       [0.        , 0.        , 0.        , ..., 0.        , 0.00464396,\n",
       "        0.        ],\n",
       "       [0.        , 0.        , 0.        , ..., 0.        , 0.        ,\n",
       "        0.        ],\n",
       "       ...,\n",
       "       [0.        , 0.        , 0.01092896, ..., 0.        , 0.        ,\n",
       "        0.        ],\n",
       "       [0.        , 0.        , 0.        , ..., 0.        , 0.        ,\n",
       "        0.        ],\n",
       "       [0.05494505, 0.        , 0.01098901, ..., 0.        , 0.        ,\n",
       "        0.        ]])"
      ]
     },
     "execution_count": 41,
     "metadata": {},
     "output_type": "execute_result"
    }
   ],
   "source": [
    "df_sparse"
   ]
  },
  {
   "cell_type": "markdown",
   "metadata": {},
   "source": [
    "### Evaluation"
   ]
  },
  {
   "cell_type": "markdown",
   "metadata": {},
   "source": [
    "Evaluation is critical in machine learning projects, because it allows us to compare different algorithms and hyperparameter choices for these models.\n",
    "\n",
    "One key aspect of evaluation is to ensure that the trained model generalizes for data it was not trained on, using Cross-validation techniques. The system utilizes 5 fold for evaluation.\n",
    "\n",
    "In recommender system, the common evaluation metrics are R@K, P@K and RMSE. Even though the code evaluates for all three metrics, the highest priority will be R@K as we want recommender system to recommend most or all champions that users would prefer."
   ]
  },
  {
   "cell_type": "code",
   "execution_count": 42,
   "metadata": {},
   "outputs": [],
   "source": [
    "class CrossValidation(object):\n",
    "    def __init__(self, metric, df=df):\n",
    "        \"\"\"\n",
    "            INPUT:\n",
    "                metric: string. from['RMSE','P@K','R@K']\n",
    "        \"\"\"\n",
    "        self.folds = self._getData(df)\n",
    "        self.metric_name = metric\n",
    "        self.metric = self._getMetric(self.metric_name)\n",
    "        \n",
    "    def _getMetric(self, metric_name):\n",
    "        \"\"\"\n",
    "            Don't change this\n",
    "        \"\"\"\n",
    "        switcher = {\n",
    "            'RMSE': self.rmse,\n",
    "            'P@K': self.patk,\n",
    "            'R@K': self.ratk,\n",
    "        }\n",
    "        \n",
    "        return switcher[metric_name]\n",
    "    \n",
    "    @staticmethod\n",
    "    def rmse(data, k, num_users, num_items, pred, true='Normalized Match'):\n",
    "        \"\"\"\n",
    "            data: pandas DataFrame. \n",
    "            pred: string. Column name that corresponding to the prediction\n",
    "            true: string. Column name that corresponding to the true rating\n",
    "        \"\"\"\n",
    "        return sqrt(mean_squared_error(data[pred], data[true]))\n",
    "        \n",
    "\n",
    "    def patk(self, data, k, num_users, num_items, pred, true='Normalized Match'):\n",
    "        \"\"\"\n",
    "            data: pandas DataFrame. \n",
    "            k: top-k items retrived\n",
    "            pred: string. Column name that corresponding to the prediction\n",
    "            true: string. Column name that corresponding to the true rating\n",
    "        \"\"\"\n",
    "        prediction = self.getMatrix(data, num_users, num_items, pred)\n",
    "        testSet =  self.getMatrix(data, num_users, num_items, true)\n",
    "    \n",
    "        # Initialize sum and count vars for average calculation\n",
    "        sumPrecisions = 0\n",
    "        countPrecisions = 0\n",
    "\n",
    "        # Define function for converting 0-1 continuous value to discrete 0/1 (Plays / Not Plays)\n",
    "        vf = np.vectorize(lambda x: 1 if x >= 0.05 else 0)\n",
    "\n",
    "        for userID in range(num_users):\n",
    "            # Pick top K based on predicted rating\n",
    "            userVector = prediction[userID,:]\n",
    "            topK = nlargest(k, range(len(userVector)), userVector.take)\n",
    "\n",
    "            # Convert test set ratings to like / don't like\n",
    "            userTestVector = vf(testSet[userID,:]).nonzero()[0]\n",
    "\n",
    "            # Calculate precision\n",
    "            precision = float(len([item for item in topK if item in userTestVector]))/len(topK)\n",
    "\n",
    "            # Update sum and count\n",
    "            sumPrecisions += precision\n",
    "            countPrecisions += 1\n",
    "\n",
    "        # Return average P@k\n",
    "        return float(sumPrecisions)/countPrecisions\n",
    "\n",
    "    # Recall at k\n",
    "    def ratk(self, data, k, num_users, num_items, pred, true='Normalized Match'):\n",
    "        \"\"\"\n",
    "            data: pandas DataFrame. \n",
    "            k: top-k items relevant\n",
    "            pred: string. Column name that corresponding to the prediction\n",
    "            true: string. Column name that corresponding to the true rating\n",
    "        \"\"\"\n",
    "        prediction = self.getMatrix(data, num_users, num_items, pred)\n",
    "        testSet =  self.getMatrix(data, num_users, num_items, true)\n",
    "        # Initialize sum and count vars for average calculation\n",
    "        sumRecalls = 0\n",
    "        countRecalls = 0\n",
    "\n",
    "        # Define function for converting 0-1 continuous value to discrete 0/1 (Plays / Not Plays)\n",
    "        vf = np.vectorize(lambda x: 1 if x >= 0.05 else 0)\n",
    "\n",
    "        for userID in range(num_users):\n",
    "            # Pick top K based on predicted rating\n",
    "            userVector = prediction[userID,:]\n",
    "            topK = nlargest(k, range(len(userVector)), userVector.take)\n",
    "\n",
    "            # Convert test set ratings to like / don't like\n",
    "            userTestVector = vf(testSet[userID,:]).nonzero()[0]\n",
    "\n",
    "            # Ignore user if has no ratings in the test set\n",
    "            if (len(userTestVector) == 0):\n",
    "                continue\n",
    "\n",
    "            # Calculate recall\n",
    "            recall = float(len([item for item in topK if item in userTestVector]))/len(userTestVector)\n",
    "\n",
    "            # Update sum and count\n",
    "            sumRecalls += recall\n",
    "            countRecalls += 1\n",
    "\n",
    "        # Return average R@k\n",
    "        return float(sumRecalls)/countRecalls\n",
    "    \n",
    "    @staticmethod\n",
    "    def getMatrix(df, num_users, num_items, column_name):\n",
    "        matrix = np.zeros((num_users, num_items))\n",
    "    \n",
    "        for (index, userID, itemID, value) in df[['Summoner_ID','Champion_ID', column_name]].itertuples():\n",
    "            matrix[userID, itemID] = value\n",
    "            \n",
    "        return matrix\n",
    "    \n",
    "    @staticmethod\n",
    "    def _getData(df,k=5):\n",
    "        \"\"\"\n",
    "            Don't change this function\n",
    "        \"\"\"\n",
    "        folds = []\n",
    "        kf = KFold(n_splits=k)\n",
    "        for train_index, test_index in kf.split(df):\n",
    "            train_set, test_set = df.loc[train_index], df.loc[test_index]\n",
    "            folds.append([train_set, test_set])\n",
    "\n",
    "        return folds\n",
    "    \n",
    "    def run(self, algorithms, num_users, num_items, k=1):\n",
    "        \"\"\"\n",
    "            5-fold cross-validation\n",
    "            algorithms: list. a list of algorithms. \n",
    "                        eg: [user_cosine_recsys, item_euclidean_recsys]\n",
    "        \"\"\"\n",
    "        \n",
    "        scores = {}\n",
    "        for algorithm in algorithms:\n",
    "            print('Processing algorithm {0}'.format(algorithm.getPredColName()))\n",
    "            fold_scores = []\n",
    "            for fold in self.folds:\n",
    "                algorithm.reset()\n",
    "                algorithm.predict_all(fold[0], num_users, num_items)\n",
    "                prediction = algorithm.evaluate_test(fold[1])\n",
    "                pred_col = algorithm.getPredColName()\n",
    "                fold_scores.append(self.metric(prediction, k, num_users, num_items, pred_col))\n",
    "                \n",
    "            mean = np.mean(fold_scores)\n",
    "            scores[algorithm.getPredColName()] = [fold_scores, mean]\n",
    "            \n",
    "        results = scores    \n",
    "    \n",
    "        return results"
   ]
  },
  {
   "cell_type": "markdown",
   "metadata": {},
   "source": [
    "### Baseline Models - Popularity"
   ]
  },
  {
   "cell_type": "markdown",
   "metadata": {},
   "source": [
    "Popularity simply recommends to users based on the popularity of the champions. Popularity is a good baseline system, but has limitations as it recommends same list of champions to all summoners. "
   ]
  },
  {
   "cell_type": "code",
   "execution_count": 43,
   "metadata": {},
   "outputs": [],
   "source": [
    "class BaseLineRecSys(object):\n",
    "    def __init__(self, method, processor=dataPreprocessor):\n",
    "        \"\"\"\n",
    "            method: string. From ['popularity','useraverage']\n",
    "            processor: function name. dataPreprocessor by default\n",
    "        \"\"\"\n",
    "        self.method_name = method\n",
    "        self.method = self._getMethod(self.method_name)\n",
    "        self.processor = processor\n",
    "        self.pred_column_name = self.method_name\n",
    "        \n",
    "    def _getMethod(self, method_name):\n",
    "        \"\"\"\n",
    "            Don't change this\n",
    "        \"\"\"\n",
    "        switcher = {\n",
    "            'popularity': self.popularity,\n",
    "        }\n",
    "        \n",
    "        return switcher[method_name]\n",
    "        \n",
    "    @staticmethod\n",
    "    def popularity(train_matrix, num_users, num_items):\n",
    "        \"\"\"\n",
    "            INPUT:\n",
    "                train_matrix: 2D numpy array.\n",
    "                num_users: int. Number of Users.\n",
    "                num_items: int. Number of Items.\n",
    "            OUTPUT:\n",
    "                predictionMatrix: 2D numpy array.\n",
    "                \n",
    "            NOTE: see where something very similar is done in the lab in function 'predictByPopularity'    \n",
    "        \"\"\"\n",
    "        \n",
    "        ########### your code goes here ###########\n",
    "        # Initialize the predicted rating matrix with zeros\n",
    "        predictionMatrix = np.zeros((num_users, num_items))\n",
    "\n",
    "        # Define function for converting 0-1 continuous value to discrete 0/1 (Plays / Not Plays)\n",
    "\n",
    "        vf = np.vectorize(lambda x: 1 if x >= 0.05 else 0)\n",
    "        \n",
    "        itemPopularity = np.zeros((num_items))\n",
    "        for item in range(num_items):\n",
    "            numOfUsersRated = len(train_matrix[:, item].nonzero()[0])\n",
    "            numOfUsersLiked = len(vf(train_matrix[:, item]).nonzero()[0])\n",
    "            if numOfUsersRated == 0:\n",
    "                itemPopularity[item] = 0\n",
    "            else:\n",
    "                itemPopularity[item] = numOfUsersLiked/numOfUsersRated\n",
    "\n",
    "        for (user,item), rating in np.ndenumerate(train_matrix):\n",
    "            # Predict rating for every item that wasn't ranked by the user (rating == 0)\n",
    "            predictionMatrix[user, item] = itemPopularity[item]\n",
    "\n",
    "            # report progress every 100 users\n",
    "            if (user % 100 == 0 and item == 1):\n",
    "                print (\"calculated %d users\" % (user,))\n",
    "                \n",
    "        ###########         end         ###########\n",
    "        return predictionMatrix    \n",
    "    \n",
    "    def predict_all(self, train_df, num_users, num_items):\n",
    "        \n",
    "        train_matrix = self.processor(train_df, num_users, num_items)\n",
    "        self.__model = self.method(train_matrix, num_users, num_items)\n",
    "        \n",
    "    def evaluate_test(self, test_df, copy=False):\n",
    "        \n",
    "        if copy:\n",
    "            prediction = test_df.copy()\n",
    "        else:\n",
    "            prediction = test_df\n",
    "            \n",
    "        prediction[self.pred_column_name] = np.nan\n",
    "        \n",
    "        for (index, \n",
    "             userID, \n",
    "             itemID) in tqdm(prediction[['Summoner_ID','Champion_ID']].itertuples()):\n",
    "            prediction.loc[index, self.pred_column_name] = self.__model[userID, itemID]\n",
    "\n",
    "        return prediction\n",
    "        \n",
    "    def getModel(self):\n",
    "        \"\"\"\n",
    "            return predicted user-item matrix\n",
    "        \"\"\"\n",
    "        return self.__model\n",
    "    \n",
    "    def getPredColName(self):\n",
    "        \"\"\"\n",
    "            return prediction column name\n",
    "        \"\"\"\n",
    "        return self.pred_column_name\n",
    "    \n",
    "    def reset(self):\n",
    "        \"\"\"\n",
    "            reuse the instance of the class by removing model\n",
    "        \"\"\"\n",
    "        try:\n",
    "            self.model = None\n",
    "        except:\n",
    "            print(\"You don not have model..\")\n",
    "            "
   ]
  },
  {
   "cell_type": "code",
   "execution_count": 17,
   "metadata": {},
   "outputs": [],
   "source": [
    "popularity_recsys = BaseLineRecSys('popularity')"
   ]
  },
  {
   "cell_type": "code",
   "execution_count": 18,
   "metadata": {
    "scrolled": true
   },
   "outputs": [
    {
     "name": "stdout",
     "output_type": "stream",
     "text": [
      "calculated 0 users\n",
      "calculated 100 users\n",
      "calculated 200 users\n",
      "calculated 300 users\n",
      "calculated 400 users\n",
      "calculated 500 users\n",
      "calculated 600 users\n",
      "calculated 700 users\n",
      "calculated 800 users\n",
      "calculated 900 users\n",
      "calculated 1000 users\n",
      "calculated 1100 users\n",
      "calculated 1200 users\n",
      "calculated 1300 users\n",
      "calculated 1400 users\n",
      "calculated 1500 users\n",
      "calculated 1600 users\n",
      "calculated 1700 users\n",
      "calculated 1800 users\n",
      "calculated 1900 users\n",
      "calculated 2000 users\n",
      "calculated 2100 users\n",
      "calculated 2200 users\n",
      "calculated 2300 users\n",
      "calculated 2400 users\n",
      "calculated 2500 users\n",
      "calculated 2600 users\n",
      "calculated 2700 users\n",
      "calculated 2800 users\n",
      "calculated 2900 users\n",
      "calculated 3000 users\n",
      "calculated 3100 users\n",
      "calculated 3200 users\n",
      "calculated 3300 users\n",
      "calculated 3400 users\n",
      "calculated 3500 users\n",
      "calculated 3600 users\n",
      "calculated 3700 users\n",
      "calculated 3800 users\n",
      "calculated 3900 users\n",
      "calculated 4000 users\n",
      "calculated 4100 users\n",
      "calculated 4200 users\n",
      "calculated 4300 users\n",
      "calculated 4400 users\n",
      "calculated 4500 users\n",
      "calculated 4600 users\n",
      "calculated 4700 users\n",
      "calculated 4800 users\n",
      "calculated 4900 users\n",
      "calculated 5000 users\n",
      "calculated 5100 users\n",
      "calculated 5200 users\n",
      "calculated 5300 users\n",
      "calculated 5400 users\n",
      "calculated 5500 users\n",
      "calculated 5600 users\n",
      "calculated 5700 users\n",
      "calculated 5800 users\n",
      "calculated 5900 users\n",
      "calculated 6000 users\n",
      "calculated 6100 users\n",
      "calculated 6200 users\n",
      "calculated 6300 users\n",
      "calculated 6400 users\n",
      "calculated 6500 users\n",
      "calculated 6600 users\n",
      "calculated 6700 users\n",
      "calculated 6800 users\n",
      "calculated 6900 users\n",
      "calculated 7000 users\n",
      "calculated 7100 users\n",
      "calculated 7200 users\n",
      "calculated 7300 users\n",
      "calculated 7400 users\n",
      "calculated 7500 users\n",
      "calculated 7600 users\n",
      "calculated 7700 users\n",
      "calculated 7800 users\n",
      "calculated 7900 users\n",
      "calculated 8000 users\n",
      "calculated 8100 users\n",
      "calculated 8200 users\n",
      "calculated 8300 users\n",
      "calculated 8400 users\n",
      "calculated 8500 users\n",
      "calculated 8600 users\n",
      "calculated 8700 users\n",
      "calculated 8800 users\n",
      "calculated 8900 users\n",
      "calculated 9000 users\n",
      "calculated 9100 users\n",
      "calculated 9200 users\n",
      "calculated 9300 users\n",
      "calculated 9400 users\n",
      "calculated 9500 users\n",
      "calculated 9600 users\n",
      "calculated 9700 users\n",
      "calculated 9800 users\n",
      "calculated 9900 users\n",
      "calculated 10000 users\n",
      "calculated 10100 users\n",
      "calculated 10200 users\n",
      "calculated 10300 users\n",
      "calculated 10400 users\n",
      "calculated 10500 users\n",
      "calculated 10600 users\n",
      "calculated 10700 users\n",
      "calculated 10800 users\n",
      "calculated 10900 users\n",
      "calculated 11000 users\n",
      "calculated 11100 users\n",
      "calculated 11200 users\n",
      "calculated 11300 users\n",
      "calculated 11400 users\n",
      "calculated 11500 users\n",
      "calculated 11600 users\n",
      "calculated 11700 users\n",
      "calculated 11800 users\n",
      "calculated 11900 users\n",
      "calculated 12000 users\n",
      "calculated 12100 users\n",
      "calculated 12200 users\n",
      "calculated 12300 users\n",
      "calculated 12400 users\n",
      "calculated 12500 users\n",
      "calculated 12600 users\n",
      "calculated 12700 users\n",
      "calculated 12800 users\n",
      "calculated 12900 users\n",
      "calculated 13000 users\n",
      "calculated 13100 users\n",
      "calculated 13200 users\n",
      "calculated 13300 users\n",
      "calculated 13400 users\n",
      "calculated 13500 users\n",
      "calculated 13600 users\n",
      "calculated 13700 users\n",
      "calculated 13800 users\n",
      "calculated 13900 users\n",
      "calculated 14000 users\n",
      "calculated 14100 users\n",
      "calculated 14200 users\n",
      "calculated 14300 users\n",
      "calculated 14400 users\n",
      "calculated 14500 users\n",
      "calculated 14600 users\n",
      "calculated 14700 users\n",
      "calculated 14800 users\n",
      "calculated 14900 users\n",
      "calculated 15000 users\n",
      "calculated 15100 users\n",
      "calculated 15200 users\n",
      "calculated 15300 users\n",
      "calculated 15400 users\n",
      "calculated 15500 users\n",
      "calculated 15600 users\n",
      "calculated 15700 users\n",
      "calculated 15800 users\n",
      "calculated 15900 users\n",
      "calculated 16000 users\n",
      "calculated 16100 users\n",
      "calculated 16200 users\n",
      "calculated 16300 users\n",
      "calculated 16400 users\n",
      "calculated 16500 users\n",
      "calculated 16600 users\n",
      "calculated 16700 users\n",
      "calculated 16800 users\n",
      "calculated 16900 users\n",
      "calculated 17000 users\n",
      "calculated 17100 users\n",
      "calculated 17200 users\n",
      "calculated 17300 users\n",
      "calculated 17400 users\n",
      "calculated 17500 users\n",
      "calculated 17600 users\n",
      "calculated 17700 users\n",
      "calculated 17800 users\n",
      "calculated 17900 users\n",
      "calculated 18000 users\n",
      "calculated 18100 users\n",
      "calculated 18200 users\n",
      "calculated 18300 users\n",
      "calculated 18400 users\n",
      "calculated 18500 users\n",
      "calculated 18600 users\n",
      "calculated 18700 users\n",
      "calculated 18800 users\n",
      "calculated 18900 users\n",
      "calculated 19000 users\n",
      "calculated 19100 users\n",
      "calculated 19200 users\n",
      "calculated 19300 users\n",
      "calculated 19400 users\n",
      "calculated 19500 users\n",
      "calculated 19600 users\n",
      "calculated 19700 users\n",
      "calculated 19800 users\n",
      "calculated 19900 users\n",
      "calculated 20000 users\n",
      "calculated 20100 users\n",
      "calculated 20200 users\n",
      "calculated 20300 users\n",
      "calculated 20400 users\n",
      "calculated 20500 users\n",
      "calculated 20600 users\n",
      "calculated 20700 users\n",
      "calculated 20800 users\n",
      "calculated 20900 users\n",
      "calculated 21000 users\n",
      "calculated 21100 users\n",
      "calculated 21200 users\n",
      "calculated 21300 users\n",
      "calculated 21400 users\n",
      "calculated 21500 users\n",
      "calculated 21600 users\n",
      "calculated 21700 users\n",
      "calculated 21800 users\n",
      "calculated 21900 users\n",
      "calculated 22000 users\n",
      "calculated 22100 users\n",
      "calculated 22200 users\n",
      "calculated 22300 users\n",
      "calculated 22400 users\n",
      "calculated 22500 users\n",
      "calculated 22600 users\n",
      "calculated 22700 users\n",
      "calculated 22800 users\n",
      "calculated 22900 users\n",
      "calculated 23000 users\n",
      "calculated 23100 users\n",
      "calculated 23200 users\n",
      "calculated 23300 users\n",
      "calculated 23400 users\n",
      "calculated 23500 users\n",
      "calculated 23600 users\n",
      "calculated 23700 users\n",
      "calculated 23800 users\n",
      "calculated 23900 users\n",
      "calculated 24000 users\n",
      "calculated 24100 users\n",
      "calculated 24200 users\n",
      "calculated 24300 users\n",
      "calculated 24400 users\n",
      "calculated 24500 users\n",
      "calculated 24600 users\n",
      "calculated 24700 users\n",
      "calculated 24800 users\n",
      "calculated 24900 users\n",
      "calculated 25000 users\n",
      "calculated 25100 users\n",
      "calculated 25200 users\n",
      "calculated 25300 users\n",
      "calculated 25400 users\n",
      "calculated 25500 users\n",
      "calculated 25600 users\n",
      "calculated 25700 users\n",
      "calculated 25800 users\n",
      "calculated 25900 users\n",
      "calculated 26000 users\n",
      "calculated 26100 users\n",
      "calculated 26200 users\n",
      "calculated 26300 users\n",
      "calculated 26400 users\n",
      "calculated 26500 users\n",
      "calculated 26600 users\n",
      "calculated 26700 users\n",
      "calculated 26800 users\n",
      "calculated 26900 users\n",
      "calculated 27000 users\n",
      "calculated 27100 users\n",
      "calculated 27200 users\n",
      "calculated 27300 users\n",
      "calculated 27400 users\n",
      "calculated 27500 users\n",
      "calculated 27600 users\n",
      "calculated 27700 users\n",
      "calculated 27800 users\n",
      "calculated 27900 users\n",
      "calculated 28000 users\n",
      "calculated 28100 users\n",
      "calculated 28200 users\n",
      "calculated 28300 users\n",
      "calculated 28400 users\n",
      "calculated 28500 users\n",
      "calculated 28600 users\n",
      "calculated 28700 users\n",
      "calculated 28800 users\n",
      "calculated 28900 users\n",
      "calculated 29000 users\n",
      "calculated 29100 users\n",
      "calculated 29200 users\n",
      "calculated 29300 users\n",
      "calculated 29400 users\n",
      "calculated 29500 users\n",
      "calculated 29600 users\n",
      "calculated 29700 users\n",
      "calculated 29800 users\n",
      "calculated 29900 users\n",
      "calculated 30000 users\n",
      "calculated 30100 users\n",
      "calculated 30200 users\n",
      "calculated 30300 users\n",
      "calculated 30400 users\n",
      "calculated 30500 users\n",
      "calculated 30600 users\n",
      "calculated 30700 users\n",
      "calculated 30800 users\n",
      "calculated 30900 users\n",
      "calculated 31000 users\n",
      "calculated 31100 users\n",
      "calculated 31200 users\n",
      "calculated 31300 users\n",
      "calculated 31400 users\n",
      "calculated 31500 users\n",
      "calculated 31600 users\n",
      "calculated 31700 users\n",
      "calculated 31800 users\n",
      "calculated 31900 users\n",
      "calculated 32000 users\n",
      "calculated 32100 users\n",
      "calculated 32200 users\n",
      "calculated 32300 users\n",
      "calculated 32400 users\n",
      "calculated 32500 users\n",
      "calculated 32600 users\n",
      "calculated 32700 users\n",
      "calculated 32800 users\n",
      "calculated 32900 users\n",
      "calculated 33000 users\n",
      "calculated 33100 users\n",
      "calculated 33200 users\n",
      "calculated 33300 users\n",
      "calculated 33400 users\n",
      "calculated 33500 users\n",
      "calculated 33600 users\n",
      "calculated 33700 users\n",
      "calculated 33800 users\n",
      "calculated 33900 users\n",
      "calculated 34000 users\n",
      "calculated 34100 users\n",
      "calculated 34200 users\n",
      "calculated 34300 users\n",
      "calculated 34400 users\n",
      "calculated 34500 users\n",
      "calculated 34600 users\n",
      "calculated 34700 users\n",
      "calculated 34800 users\n",
      "calculated 34900 users\n",
      "calculated 35000 users\n",
      "calculated 35100 users\n",
      "calculated 35200 users\n",
      "calculated 35300 users\n",
      "calculated 35400 users\n",
      "calculated 35500 users\n",
      "calculated 35600 users\n",
      "calculated 35700 users\n",
      "calculated 35800 users\n",
      "calculated 35900 users\n",
      "calculated 36000 users\n",
      "calculated 36100 users\n",
      "calculated 36200 users\n",
      "calculated 36300 users\n",
      "calculated 36400 users\n",
      "calculated 36500 users\n"
     ]
    },
    {
     "name": "stdout",
     "output_type": "stream",
     "text": [
      "calculated 36600 users\n",
      "calculated 36700 users\n",
      "calculated 36800 users\n",
      "calculated 36900 users\n",
      "calculated 37000 users\n",
      "calculated 37100 users\n",
      "calculated 37200 users\n",
      "calculated 37300 users\n",
      "calculated 37400 users\n",
      "calculated 37500 users\n",
      "calculated 37600 users\n",
      "calculated 37700 users\n",
      "calculated 37800 users\n",
      "calculated 37900 users\n",
      "calculated 38000 users\n",
      "calculated 38100 users\n",
      "calculated 38200 users\n",
      "calculated 38300 users\n",
      "calculated 38400 users\n",
      "calculated 38500 users\n",
      "calculated 38600 users\n",
      "calculated 38700 users\n",
      "calculated 38800 users\n",
      "calculated 38900 users\n",
      "calculated 39000 users\n",
      "calculated 39100 users\n",
      "calculated 39200 users\n",
      "calculated 39300 users\n",
      "calculated 39400 users\n",
      "calculated 39500 users\n",
      "calculated 39600 users\n",
      "calculated 39700 users\n",
      "calculated 39800 users\n",
      "calculated 39900 users\n",
      "calculated 40000 users\n",
      "calculated 40100 users\n",
      "calculated 40200 users\n",
      "calculated 40300 users\n",
      "calculated 40400 users\n",
      "calculated 40500 users\n",
      "calculated 40600 users\n",
      "calculated 40700 users\n",
      "calculated 40800 users\n",
      "calculated 40900 users\n",
      "calculated 41000 users\n",
      "calculated 41100 users\n",
      "calculated 41200 users\n",
      "calculated 41300 users\n",
      "calculated 41400 users\n",
      "calculated 41500 users\n",
      "calculated 41600 users\n",
      "calculated 41700 users\n",
      "calculated 41800 users\n",
      "calculated 41900 users\n",
      "calculated 42000 users\n",
      "calculated 42100 users\n",
      "calculated 42200 users\n",
      "calculated 42300 users\n",
      "calculated 42400 users\n",
      "calculated 42500 users\n",
      "calculated 42600 users\n",
      "calculated 42700 users\n",
      "calculated 42800 users\n",
      "calculated 42900 users\n",
      "calculated 43000 users\n",
      "calculated 43100 users\n",
      "calculated 43200 users\n",
      "calculated 43300 users\n",
      "calculated 43400 users\n",
      "calculated 43500 users\n",
      "calculated 43600 users\n",
      "calculated 43700 users\n",
      "calculated 43800 users\n",
      "calculated 43900 users\n",
      "calculated 44000 users\n",
      "calculated 44100 users\n",
      "calculated 44200 users\n",
      "calculated 44300 users\n",
      "calculated 44400 users\n",
      "calculated 44500 users\n",
      "calculated 44600 users\n",
      "calculated 44700 users\n",
      "calculated 44800 users\n",
      "calculated 44900 users\n",
      "calculated 45000 users\n",
      "calculated 45100 users\n",
      "calculated 45200 users\n",
      "calculated 45300 users\n",
      "calculated 45400 users\n",
      "calculated 45500 users\n",
      "calculated 45600 users\n",
      "calculated 45700 users\n",
      "calculated 45800 users\n",
      "calculated 45900 users\n",
      "calculated 46000 users\n",
      "calculated 46100 users\n",
      "calculated 46200 users\n",
      "calculated 46300 users\n",
      "calculated 46400 users\n",
      "calculated 46500 users\n",
      "calculated 46600 users\n",
      "calculated 46700 users\n",
      "calculated 46800 users\n",
      "calculated 46900 users\n",
      "calculated 47000 users\n",
      "calculated 47100 users\n",
      "calculated 47200 users\n",
      "calculated 47300 users\n",
      "calculated 47400 users\n",
      "calculated 47500 users\n",
      "calculated 47600 users\n",
      "calculated 47700 users\n",
      "calculated 47800 users\n",
      "calculated 47900 users\n",
      "calculated 48000 users\n",
      "calculated 48100 users\n",
      "calculated 48200 users\n",
      "calculated 48300 users\n",
      "calculated 48400 users\n",
      "calculated 48500 users\n",
      "calculated 48600 users\n",
      "calculated 48700 users\n",
      "calculated 48800 users\n",
      "calculated 48900 users\n",
      "calculated 49000 users\n",
      "calculated 49100 users\n",
      "calculated 49200 users\n",
      "calculated 49300 users\n",
      "calculated 49400 users\n",
      "calculated 49500 users\n",
      "calculated 49600 users\n",
      "calculated 49700 users\n",
      "calculated 49800 users\n",
      "calculated 49900 users\n",
      "calculated 50000 users\n",
      "calculated 50100 users\n",
      "calculated 50200 users\n",
      "calculated 50300 users\n",
      "calculated 50400 users\n",
      "calculated 50500 users\n",
      "calculated 50600 users\n",
      "calculated 50700 users\n",
      "calculated 50800 users\n",
      "calculated 50900 users\n",
      "calculated 51000 users\n",
      "calculated 51100 users\n",
      "calculated 51200 users\n",
      "calculated 51300 users\n",
      "calculated 51400 users\n",
      "calculated 51500 users\n",
      "calculated 51600 users\n",
      "calculated 51700 users\n",
      "calculated 51800 users\n",
      "calculated 51900 users\n",
      "calculated 52000 users\n",
      "calculated 52100 users\n",
      "calculated 52200 users\n",
      "calculated 52300 users\n",
      "calculated 52400 users\n",
      "calculated 52500 users\n",
      "calculated 52600 users\n",
      "calculated 52700 users\n",
      "calculated 52800 users\n",
      "calculated 52900 users\n",
      "calculated 53000 users\n",
      "calculated 53100 users\n",
      "calculated 53200 users\n",
      "calculated 53300 users\n",
      "calculated 53400 users\n",
      "calculated 53500 users\n",
      "calculated 53600 users\n",
      "calculated 53700 users\n",
      "calculated 53800 users\n",
      "calculated 53900 users\n",
      "calculated 54000 users\n",
      "calculated 54100 users\n",
      "calculated 54200 users\n",
      "calculated 54300 users\n",
      "calculated 54400 users\n"
     ]
    }
   ],
   "source": [
    "popularity_recsys.predict_all(df, num_users, num_items)"
   ]
  },
  {
   "cell_type": "markdown",
   "metadata": {},
   "source": [
    "### Collaborative Filtering - User - User & Item - Item"
   ]
  },
  {
   "cell_type": "code",
   "execution_count": 44,
   "metadata": {},
   "outputs": [],
   "source": [
    "class SimBasedRecSys(object):\n",
    "\n",
    "    def __init__(self, base, method, processor=dataPreprocessor):\n",
    "        \"\"\"\n",
    "            base: string. From ['user', 'item']. User-based Similarity or Item-based\n",
    "            method: string. From ['cosine', 'euclidean', 'somethingelse']\n",
    "            processor: function name. dataPreprocessor by default\n",
    "        \"\"\"\n",
    "        self.base = base\n",
    "        self.method_name = method\n",
    "        self.method = self._getMethod(self.method_name)\n",
    "        self.processor = processor\n",
    "        self.pred_column_name = self.base+'-'+self.method_name\n",
    "    \n",
    "    def _getMethod(self, method_name):\n",
    "        \"\"\"\n",
    "            Don't change this\n",
    "        \"\"\"\n",
    "        switcher = {\n",
    "            'cosine': self.cosine,\n",
    "            'euclidean': self.euclidean,\n",
    "        }\n",
    "        \n",
    "        return switcher[method_name]\n",
    "    \n",
    "    @staticmethod\n",
    "    def cosine(matrix):\n",
    "        \"\"\"\n",
    "            cosine similarity\n",
    "        \"\"\"\n",
    "        similarity_matrix = 1 - pairwise_distances(matrix, metric='cosine')\n",
    "        return similarity_matrix\n",
    "    \n",
    "    @staticmethod\n",
    "    def euclidean(matrix):\n",
    "        \"\"\"\n",
    "            euclidean similarity\n",
    "        \"\"\"\n",
    "        ########### your code goes here ###########\n",
    "        \n",
    "        similarity_matrix = 1/(pairwise_distances(matrix, metric='euclidean') + 1)\n",
    "        \n",
    "    \n",
    "        ###########         end         ###########    \n",
    "        \n",
    "        return similarity_matrix\n",
    "    \n",
    "        \n",
    "    def predict_all(self, train_df, num_users, num_items):\n",
    "        \"\"\"\n",
    "            INPUT: \n",
    "                data: pandas DataFrame. columns=['userID', 'itemID', 'rating'...]\n",
    "                num_row: scalar. number of users\n",
    "                num_col: scalar. number of items\n",
    "            OUTPUT:\n",
    "                no return... this method assigns the result to self.model\n",
    "            \n",
    "            NOTES:\n",
    "                self.__model should contain predictions for *all* user and items\n",
    "                (don't worry about predicting for observed (user,item) pairs,\n",
    "                 since we won't be using these predictions in the evaluation)\n",
    "                (see code in for an efficient vectorized example)\n",
    "        \"\"\"\n",
    "        train_matrix = self.processor(train_df, num_users, num_items)\n",
    "        \n",
    "        if self.base == 'user':\n",
    "            ########### your code goes here ###########\n",
    "            # Initialize the predicted rating matrix with zeros\n",
    "            temp_matrix = np.zeros(train_matrix.shape)\n",
    "            temp_matrix[train_matrix.nonzero()] = 1\n",
    "            self.similarity = self.method(train_matrix)\n",
    "            normalizer = np.matmul(self.similarity, temp_matrix)\n",
    "            normalizer[normalizer == 0] = 1e-5\n",
    "            predictionMatrix = np.matmul(self.similarity, train_matrix)/normalizer\n",
    "            useraverage = np.sum(train_matrix, axis=1)/(np.sum(temp_matrix, axis=1)+ 1e-5)\n",
    "            \n",
    "            columns = np.sum(predictionMatrix, axis=0)\n",
    "            \n",
    "            predictionMatrix[:, columns==0] = predictionMatrix[:, columns==0] + np.expand_dims(useraverage, axis=1)\n",
    "            \n",
    "            self.__model = predictionMatrix\n",
    "            \n",
    "        elif self.base == 'item':\n",
    "            ########### your code goes here ###########\n",
    "            train_matrix = train_matrix.T\n",
    "            temp_matrix = np.zeros(train_matrix.shape)\n",
    "            temp_matrix[train_matrix.nonzero()] = 1\n",
    "            self.similarity = self.method(train_matrix)\n",
    "            normalizer = np.matmul(self.similarity, temp_matrix)\n",
    "            normalizer[normalizer == 0] = 1e-5\n",
    "            predictionMatrix = np.matmul(self.similarity, train_matrix)/normalizer\n",
    "            useraverage = np.sum(train_matrix, axis=1)/(np.sum(temp_matrix, axis=1)+ 1e-5)\n",
    "            \n",
    "            columns = np.sum(predictionMatrix, axis=0)\n",
    "            \n",
    "            predictionMatrix[:, columns==0] = predictionMatrix[:, columns==0] + np.expand_dims(useraverage, axis=1)\n",
    "            \n",
    "            self.__model = predictionMatrix.T\n",
    "            \n",
    "            ###########         end         ###########\n",
    "        else:\n",
    "            print('No other option available')\n",
    "        \n",
    "    def evaluate_test(self, test_df, copy=False):\n",
    "        \"\"\"\n",
    "            INPUT:\n",
    "                data: pandas DataFrame. columns=['userID', 'itemID', 'rating'...]\n",
    "            OUTPUT:\n",
    "                predictions:  pandas DataFrame. \n",
    "                              columns=['userID', 'itemID', 'rating', 'base-method'...]\n",
    "                              \n",
    "            NOTE: 1. data can have more columns, but your function should ignore \n",
    "                  additional columns.\n",
    "                  2. 'base-method' depends on your 'base' and 'method'. For example,\n",
    "                  if base == 'user' and method == 'cosine', \n",
    "                  then base-method == 'user-cosine'\n",
    "                  3. your predictions go to 'base-method' column\n",
    "        \"\"\"\n",
    "        if copy:\n",
    "            prediction = test_df.copy()\n",
    "        else:\n",
    "            prediction = test_df\n",
    "        prediction[self.pred_column_name] = np.nan\n",
    "        \n",
    "        for (index, \n",
    "             userID, \n",
    "             itemID) in tqdm(prediction[['Summoner_ID','Champion_ID']].itertuples()):\n",
    "            prediction.loc[index, self.pred_column_name] = self.__model[userID, itemID]\n",
    "    \n",
    "        return prediction\n",
    "    \n",
    "    def getModel(self):\n",
    "        \"\"\"\n",
    "            return predicted user-item matrix\n",
    "        \"\"\"\n",
    "        return self.__model\n",
    "    \n",
    "    \n",
    "    def getPredColName(self):\n",
    "        \"\"\"\n",
    "            return prediction column name\n",
    "        \"\"\"\n",
    "        return self.pred_column_name\n",
    "    \n",
    "    def reset(self):\n",
    "        \"\"\"\n",
    "            reuse the instance of the class by removing model\n",
    "        \"\"\"\n",
    "        try:\n",
    "            self.model = None\n",
    "        except:\n",
    "            print(\"You do not have model..\")"
   ]
  },
  {
   "cell_type": "code",
   "execution_count": null,
   "metadata": {},
   "outputs": [],
   "source": [
    "#User-User Cosine Similaritiy\n",
    "user_cosine_recsys = SimBasedRecSys('user','cosine')\n",
    "user_cosine_recsys.predict_all(df, num_users, num_items)"
   ]
  },
  {
   "cell_type": "code",
   "execution_count": 23,
   "metadata": {},
   "outputs": [],
   "source": [
    "#User-User Euclidean Similaritiy\n",
    "user_euc_recsys = SimBasedRecSys('user','euclidean')\n",
    "user_euc_recsys.predict_all(df, num_users, num_items)"
   ]
  },
  {
   "cell_type": "code",
   "execution_count": 45,
   "metadata": {},
   "outputs": [],
   "source": [
    "#Item-Item Cosine Similarity\n",
    "item_cosine_recsys = SimBasedRecSys('item','cosine')\n",
    "item_cosine_recsys.predict_all(df, num_users, num_items)"
   ]
  },
  {
   "cell_type": "code",
   "execution_count": 25,
   "metadata": {},
   "outputs": [],
   "source": [
    "#Item-Item Euclidean Similarity\n",
    "item_euc_recsys = SimBasedRecSys('item','euclidean')\n",
    "item_euc_recsys.predict_all(df, num_users, num_items)"
   ]
  },
  {
   "cell_type": "markdown",
   "metadata": {},
   "source": [
    "### PMF"
   ]
  },
  {
   "cell_type": "code",
   "execution_count": 46,
   "metadata": {},
   "outputs": [],
   "source": [
    "class PMFRecSys(object):\n",
    "    def __init__(self, num_feat=10, epsilon=1, _lambda=0.1, momentum=0.8, maxepoch=20, num_batches=10, batch_size=1000):\n",
    "        \"\"\"\n",
    "            num_feat: int, number of latent features\n",
    "            epsilon: float, learning rate\n",
    "            _lambda: float, L2 regularization,\n",
    "            momentum: float, momentum of the gradient,\n",
    "            maxepoch: float, Number of epoch before stop,\n",
    "            num_batches: int, Number of batches in each epoch (for SGD optimization),\n",
    "            batch_size:Number int, of training samples used in each batches (for SGD optimization)\n",
    "            \n",
    "        \"\"\"\n",
    "        self.num_feat = num_feat  # Number of latent features,\n",
    "        self.epsilon = epsilon  # learning rate,\n",
    "        self._lambda = _lambda  # L2 regularization,\n",
    "        self.momentum = momentum  # momentum of the gradient,\n",
    "        self.maxepoch = maxepoch  # Number of epoch before stop,\n",
    "        self.num_batches = num_batches  # Number of batches in each epoch (for SGD optimization),\n",
    "        self.batch_size = batch_size  # Number of training samples used in each batches (for SGD optimization)\n",
    "        self.test = False\n",
    "        self.w_Item = None  # Item feature vectors\n",
    "        self.w_User = None  # User feature vectors\n",
    "        \n",
    "        self.rmse_train = []\n",
    "        self.rmse_test = []\n",
    "        self.pred_column_name='PMF'\n",
    "\n",
    "    def predict_all(self, train_vec, num_user, num_item):\n",
    "        \"\"\"\n",
    "            INPUT: \n",
    "                data: pandas DataFrame. columns=['userID', 'itemID', 'rating'...]\n",
    "                num_user: scalar. number of users\n",
    "                num_item: scalar. number of items\n",
    "            OUTPUT:\n",
    "                no return... this method update w_User and w_Item\n",
    "            \n",
    "            NOTES:\n",
    "                self.W_Item and self.W_User are use to do the final predition for a user\n",
    "                \n",
    "        \"\"\"\n",
    "        # select 'userID', 'itemID', 'rating only\n",
    "        train_vec = train_vec.iloc[:, :3].values\n",
    "        if self.test:\n",
    "          train_vec, val_vec = train_test_split(train_vec)\n",
    "          pairs_val = val_vec.shape[0] #num of rating for validation\n",
    "          self.mean_rating_test = np.mean(val_vec[:, 2])\n",
    "        self.mean_rating_train = np.mean(train_vec[:, 2])  # avg rating\n",
    "        pairs_train = train_vec.shape[0]  # num of rating for training\n",
    "                \n",
    "        # initialize\n",
    "        self.epoch = 0\n",
    "        \n",
    "        ########### your code goes here ###########\n",
    "\n",
    "        self.w_Item = 0.1 * np.random.randn(num_item, self.num_feat)\n",
    "        self.w_User = 0.1 * np.random.randn(num_user, self.num_feat) \n",
    "\n",
    "        ###########         end         ###########  \n",
    "\n",
    "        self.w_Item_inc = np.zeros((num_item, self.num_feat))  # accumulate the gradient\n",
    "        self.w_User_inc = np.zeros((num_user, self.num_feat))  # accumulate the gradient\n",
    "        while self.epoch < self.maxepoch: \n",
    "            self.epoch += 1\n",
    "\n",
    "            # Shuffle training truples\n",
    "            shuffled_order = np.arange(train_vec.shape[0])  \n",
    "            np.random.shuffle(shuffled_order)  #shuffled\n",
    "\n",
    "            # Batch update\n",
    "            for batch in range(self.num_batches): \n",
    "                # print \"epoch %d batch %d\" % (self.epoch, batch+1)\n",
    "\n",
    "                test = np.arange(self.batch_size * batch, self.batch_size * (batch + 1))\n",
    "                batch_idx = np.mod(test, shuffled_order.shape[0])  # get the real data index\n",
    "\n",
    "\n",
    "                batch_UserID = np.array(train_vec[shuffled_order[batch_idx], 0], dtype='int32')\n",
    "                batch_ItemID = np.array(train_vec[shuffled_order[batch_idx], 1], dtype='int32')\n",
    "\n",
    "                # Compute Compute mean rating subtracted rating  \n",
    "                ########### your code goes here ###########\n",
    "            \n",
    "                pred_out = np.sum(np.multiply(self.w_User[batch_UserID, :],self.w_Item[batch_ItemID, :]),axis=1)\n",
    "                \n",
    "                ###########         end         ########### \n",
    "\n",
    "                rawErr = pred_out + self.mean_rating_train - train_vec[shuffled_order[batch_idx], 2]\n",
    "\n",
    "                # Compute gradients\n",
    "                Ix_User = 2 * np.multiply(rawErr[:, np.newaxis], self.w_Item[batch_ItemID, :]) \\\n",
    "                       + self._lambda * self.w_User[batch_UserID, :]\n",
    "                Ix_Item = 2 * np.multiply(rawErr[:, np.newaxis], self.w_User[batch_UserID, :]) \\\n",
    "                       + self._lambda * (self.w_Item[batch_ItemID, :])  # np.newaxis :increase the dimension\n",
    "\n",
    "                dw_Item = np.zeros((num_item, self.num_feat))\n",
    "                dw_User = np.zeros((num_user, self.num_feat))\n",
    "\n",
    "                # loop to aggreate the gradients of the same element\n",
    "                for i in range(self.batch_size):\n",
    "                    dw_Item[batch_ItemID[i], :] += Ix_Item[i, :]\n",
    "                    dw_User[batch_UserID[i], :] += Ix_User[i, :]\n",
    "\n",
    "                # Update with momentum\n",
    "                self.w_Item_inc = self.momentum * self.w_Item_inc + self.epsilon * dw_Item / self.batch_size\n",
    "                self.w_User_inc = self.momentum * self.w_User_inc + self.epsilon * dw_User / self.batch_size\n",
    "\n",
    "                self.w_Item = self.w_Item - self.w_Item_inc\n",
    "                self.w_User = self.w_User - self.w_User_inc\n",
    "\n",
    "                # Compute Compute mean rating subtracted rating \n",
    "                if batch == self.num_batches - 1:\n",
    "                    train_user_idx = np.array(train_vec[:, 0], dtype='int32')\n",
    "                    train_item_idx = np.array(train_vec[:, 1], dtype='int32')\n",
    "                    ########### your code goes here ###########\n",
    "                    \n",
    "                    pred_out = np.sum(np.multiply(self.w_User[train_user_idx, :],self.w_Item[train_item_idx, :]),axis=1)\n",
    "            \n",
    "                    ###########         end         ########### \n",
    "                    rawErr = pred_out + self.mean_rating_train - train_vec[:, 2] \n",
    "                    obj = np.linalg.norm(rawErr) ** 2 \\\n",
    "                          + 0.5 * self._lambda * (np.linalg.norm(self.w_User) ** 2 + np.linalg.norm(self.w_Item) ** 2)\n",
    "\n",
    "                    self.rmse_train.append(np.sqrt(obj / pairs_train))\n",
    "\n",
    "                # Compute validation error\n",
    "                if batch == self.num_batches - 1 and self.test:\n",
    "                    val_user_idx = np.array(val_vec[:, 0], dtype='int32')\n",
    "                    val_item_idx = np.array(val_vec[:, 1], dtype='int32')\n",
    "                    ########### your code goes here ###########\n",
    "            \n",
    "                    pred_out = np.sum(np.multiply(self.w_User[val_user_idx, :],self.w_Item[val_item_idx, :]),axis=1)\n",
    "                \n",
    "                    ###########         end         ########### \n",
    "                    rawErr = pred_out + self.mean_rating_test - val_vec[:, 2]\n",
    "                    self.rmse_test.append(np.linalg.norm(rawErr) / np.sqrt(pairs_val))\n",
    "\n",
    "\n",
    "        \n",
    "    def evaluate_test(self, test_df, copy=False):\n",
    "        \"\"\"\n",
    "            INPUT:\n",
    "                data: pandas DataFrame. columns=['userID', 'itemID', 'rating'...]\n",
    "            OUTPUT:\n",
    "                predictions:  pandas DataFrame. \n",
    "                              columns=['userID', 'itemID', 'rating', 'base-method'...]\n",
    "                              \n",
    "        \"\"\"\n",
    "        if copy:\n",
    "            prediction = pd.DataFrame(test_df.copy(), columns=['Summoner_ID','Champion_ID', 'Normalized Match'])\n",
    "        else:\n",
    "            prediction = pd.DataFrame(test_df, columns=['Summoner_ID','Champion_ID', 'Normalized Match'])\n",
    "        prediction[self.pred_column_name] = np.nan\n",
    "        \n",
    "        for (index, \n",
    "             userID, \n",
    "             itemID) in tqdm(prediction[['Summoner_ID','Champion_ID']].itertuples()):\n",
    "            prediction.loc[index, self.pred_column_name] = (np.dot(self.w_Item, self.w_User[int(userID), :]) + self.mean_rating_train)[int(itemID)]\n",
    "    \n",
    "        return prediction\n",
    "    \n",
    "    def plot_error(self):\n",
    "        if self.test:\n",
    "            plt.plot(range(pmf.maxepoch), pmf.rmse_test, marker='v', label='Test Data')\n",
    "            plt.plot(range(pmf.maxepoch), pmf.rmse_train, marker='o', label='Training Data')\n",
    "            plt.title('The MovieLens Dataset Learning Curve')\n",
    "            plt.xlabel('Number of Epochs')\n",
    "            plt.ylabel('RMSE')\n",
    "            plt.legend()\n",
    "            plt.grid()\n",
    "            plt.show()\n",
    "          \n",
    "    def getPredColName(self):\n",
    "        \"\"\"\n",
    "            return prediction column name\n",
    "        \"\"\"\n",
    "        return self.pred_column_name\n",
    "    \n",
    "    def reset(self):\n",
    "        \"\"\"\n",
    "            reuse the instance of the class by removing model\n",
    "        \"\"\"\n",
    "        try:\n",
    "            self.w_Item = None \n",
    "            self.w_User = None \n",
    "        except:\n",
    "            print(\"You do not have w_Item, w_User\")\n",
    "\n",
    "    def set_params(self, parameters):\n",
    "        if isinstance(parameters, dict):\n",
    "            self.num_feat = parameters.get(\"num_feat\", 10)\n",
    "            self.epsilon = parameters.get(\"epsilon\", 1)\n",
    "            self._lambda = parameters.get(\"_lambda\", 0.1)\n",
    "            self.momentum = parameters.get(\"momentum\", 0.8)\n",
    "            self.maxepoch = parameters.get(\"maxepoch\", 20)\n",
    "            self.num_batches = parameters.get(\"num_batches\", 10)\n",
    "            self.batch_size = parameters.get(\"batch_size\", 1000)\n",
    "            self.test = parameters.get(\"test_mode\", False)"
   ]
  },
  {
   "cell_type": "code",
   "execution_count": 201,
   "metadata": {},
   "outputs": [],
   "source": [
    "pmf = PMFRecSys()\n",
    "pmf.set_params({\"num_feat\": 10, \"epsilon\": 1, \"_lambda\": 0.1, \"momentum\": 0.8, \"maxepoch\": 100, \"num_batches\": 100,\n",
    "                \"batch_size\": 1000, 'test_mode':True})"
   ]
  },
  {
   "cell_type": "code",
   "execution_count": 195,
   "metadata": {},
   "outputs": [],
   "source": [
    "pmf.set_params({\"num_feat\": 10, \"epsilon\": 1, \"_lambda\": 0.1, \"momentum\": 0.8, \"maxepoch\": 10, \"num_batches\": 100,\n",
    "                \"batch_size\": 1000, 'test_mode':False})"
   ]
  },
  {
   "cell_type": "code",
   "execution_count": 196,
   "metadata": {},
   "outputs": [],
   "source": [
    "pmf.predict_all(df, num_users, num_items)"
   ]
  },
  {
   "cell_type": "markdown",
   "metadata": {},
   "source": [
    "## Model Implementation"
   ]
  },
  {
   "cell_type": "code",
   "execution_count": 378,
   "metadata": {
    "scrolled": true
   },
   "outputs": [
    {
     "name": "stdout",
     "output_type": "stream",
     "text": [
      "Processing algorithm popularity\n",
      "calculated 0 users\n",
      "calculated 100 users\n",
      "calculated 200 users\n",
      "calculated 300 users\n",
      "calculated 400 users\n",
      "calculated 500 users\n",
      "calculated 600 users\n",
      "calculated 700 users\n",
      "calculated 800 users\n",
      "calculated 900 users\n",
      "calculated 1000 users\n",
      "calculated 1100 users\n",
      "calculated 1200 users\n",
      "calculated 1300 users\n",
      "calculated 1400 users\n",
      "calculated 1500 users\n",
      "calculated 1600 users\n",
      "calculated 1700 users\n",
      "calculated 1800 users\n",
      "calculated 1900 users\n",
      "calculated 2000 users\n",
      "calculated 2100 users\n",
      "calculated 2200 users\n",
      "calculated 2300 users\n",
      "calculated 2400 users\n",
      "calculated 2500 users\n",
      "calculated 2600 users\n",
      "calculated 2700 users\n",
      "calculated 2800 users\n",
      "calculated 2900 users\n",
      "calculated 3000 users\n",
      "calculated 3100 users\n"
     ]
    },
    {
     "data": {
      "application/vnd.jupyter.widget-view+json": {
       "model_id": "340e46d33da84ed0911072b2c77cc0b9",
       "version_major": 2,
       "version_minor": 0
      },
      "text/plain": [
       "HBox(children=(IntProgress(value=1, bar_style='info', max=1), HTML(value='')))"
      ]
     },
     "metadata": {},
     "output_type": "display_data"
    },
    {
     "name": "stdout",
     "output_type": "stream",
     "text": [
      "\n",
      "calculated 0 users\n",
      "calculated 100 users\n",
      "calculated 200 users\n",
      "calculated 300 users\n",
      "calculated 400 users\n",
      "calculated 500 users\n",
      "calculated 600 users\n",
      "calculated 700 users\n",
      "calculated 800 users\n",
      "calculated 900 users\n",
      "calculated 1000 users\n",
      "calculated 1100 users\n",
      "calculated 1200 users\n",
      "calculated 1300 users\n",
      "calculated 1400 users\n",
      "calculated 1500 users\n",
      "calculated 1600 users\n",
      "calculated 1700 users\n",
      "calculated 1800 users\n",
      "calculated 1900 users\n",
      "calculated 2000 users\n",
      "calculated 2100 users\n",
      "calculated 2200 users\n",
      "calculated 2300 users\n",
      "calculated 2400 users\n",
      "calculated 2500 users\n",
      "calculated 2600 users\n",
      "calculated 2700 users\n",
      "calculated 2800 users\n",
      "calculated 2900 users\n",
      "calculated 3000 users\n",
      "calculated 3100 users\n"
     ]
    },
    {
     "data": {
      "application/vnd.jupyter.widget-view+json": {
       "model_id": "dcffa1744f6343ce9c85ecce3a547fe0",
       "version_major": 2,
       "version_minor": 0
      },
      "text/plain": [
       "HBox(children=(IntProgress(value=1, bar_style='info', max=1), HTML(value='')))"
      ]
     },
     "metadata": {},
     "output_type": "display_data"
    },
    {
     "name": "stdout",
     "output_type": "stream",
     "text": [
      "\n",
      "calculated 0 users\n",
      "calculated 100 users\n",
      "calculated 200 users\n",
      "calculated 300 users\n",
      "calculated 400 users\n",
      "calculated 500 users\n",
      "calculated 600 users\n",
      "calculated 700 users\n",
      "calculated 800 users\n",
      "calculated 900 users\n",
      "calculated 1000 users\n",
      "calculated 1100 users\n",
      "calculated 1200 users\n",
      "calculated 1300 users\n",
      "calculated 1400 users\n",
      "calculated 1500 users\n",
      "calculated 1600 users\n",
      "calculated 1700 users\n",
      "calculated 1800 users\n",
      "calculated 1900 users\n",
      "calculated 2000 users\n",
      "calculated 2100 users\n",
      "calculated 2200 users\n",
      "calculated 2300 users\n",
      "calculated 2400 users\n",
      "calculated 2500 users\n",
      "calculated 2600 users\n",
      "calculated 2700 users\n",
      "calculated 2800 users\n",
      "calculated 2900 users\n",
      "calculated 3000 users\n",
      "calculated 3100 users\n"
     ]
    },
    {
     "data": {
      "application/vnd.jupyter.widget-view+json": {
       "model_id": "bd46661b2cc34c8bbd178ad27f2e41ac",
       "version_major": 2,
       "version_minor": 0
      },
      "text/plain": [
       "HBox(children=(IntProgress(value=1, bar_style='info', max=1), HTML(value='')))"
      ]
     },
     "metadata": {},
     "output_type": "display_data"
    },
    {
     "name": "stdout",
     "output_type": "stream",
     "text": [
      "\n",
      "calculated 0 users\n",
      "calculated 100 users\n",
      "calculated 200 users\n",
      "calculated 300 users\n",
      "calculated 400 users\n",
      "calculated 500 users\n",
      "calculated 600 users\n",
      "calculated 700 users\n",
      "calculated 800 users\n",
      "calculated 900 users\n",
      "calculated 1000 users\n",
      "calculated 1100 users\n",
      "calculated 1200 users\n",
      "calculated 1300 users\n",
      "calculated 1400 users\n",
      "calculated 1500 users\n",
      "calculated 1600 users\n",
      "calculated 1700 users\n",
      "calculated 1800 users\n",
      "calculated 1900 users\n",
      "calculated 2000 users\n",
      "calculated 2100 users\n",
      "calculated 2200 users\n",
      "calculated 2300 users\n",
      "calculated 2400 users\n",
      "calculated 2500 users\n",
      "calculated 2600 users\n",
      "calculated 2700 users\n",
      "calculated 2800 users\n",
      "calculated 2900 users\n",
      "calculated 3000 users\n",
      "calculated 3100 users\n"
     ]
    },
    {
     "data": {
      "application/vnd.jupyter.widget-view+json": {
       "model_id": "8a1b8017cd934dafbfc63e858e7ce7b1",
       "version_major": 2,
       "version_minor": 0
      },
      "text/plain": [
       "HBox(children=(IntProgress(value=1, bar_style='info', max=1), HTML(value='')))"
      ]
     },
     "metadata": {},
     "output_type": "display_data"
    },
    {
     "name": "stdout",
     "output_type": "stream",
     "text": [
      "\n",
      "calculated 0 users\n",
      "calculated 100 users\n",
      "calculated 200 users\n",
      "calculated 300 users\n",
      "calculated 400 users\n",
      "calculated 500 users\n",
      "calculated 600 users\n",
      "calculated 700 users\n",
      "calculated 800 users\n",
      "calculated 900 users\n",
      "calculated 1000 users\n",
      "calculated 1100 users\n",
      "calculated 1200 users\n",
      "calculated 1300 users\n",
      "calculated 1400 users\n",
      "calculated 1500 users\n",
      "calculated 1600 users\n",
      "calculated 1700 users\n",
      "calculated 1800 users\n",
      "calculated 1900 users\n",
      "calculated 2000 users\n",
      "calculated 2100 users\n",
      "calculated 2200 users\n",
      "calculated 2300 users\n",
      "calculated 2400 users\n",
      "calculated 2500 users\n",
      "calculated 2600 users\n",
      "calculated 2700 users\n",
      "calculated 2800 users\n",
      "calculated 2900 users\n",
      "calculated 3000 users\n",
      "calculated 3100 users\n"
     ]
    },
    {
     "data": {
      "application/vnd.jupyter.widget-view+json": {
       "model_id": "0fbf3566d45e45ea819eb0b31b7032fc",
       "version_major": 2,
       "version_minor": 0
      },
      "text/plain": [
       "HBox(children=(IntProgress(value=1, bar_style='info', max=1), HTML(value='')))"
      ]
     },
     "metadata": {},
     "output_type": "display_data"
    },
    {
     "name": "stdout",
     "output_type": "stream",
     "text": [
      "\n",
      "Processing algorithm user-cosine\n"
     ]
    },
    {
     "data": {
      "application/vnd.jupyter.widget-view+json": {
       "model_id": "4e5ec3e84a9c4a97a9cc3af890bab343",
       "version_major": 2,
       "version_minor": 0
      },
      "text/plain": [
       "HBox(children=(IntProgress(value=1, bar_style='info', max=1), HTML(value='')))"
      ]
     },
     "metadata": {},
     "output_type": "display_data"
    },
    {
     "name": "stdout",
     "output_type": "stream",
     "text": [
      "\n"
     ]
    },
    {
     "data": {
      "application/vnd.jupyter.widget-view+json": {
       "model_id": "4bc8132796be47f680cd6a2ff723e2ea",
       "version_major": 2,
       "version_minor": 0
      },
      "text/plain": [
       "HBox(children=(IntProgress(value=1, bar_style='info', max=1), HTML(value='')))"
      ]
     },
     "metadata": {},
     "output_type": "display_data"
    },
    {
     "name": "stdout",
     "output_type": "stream",
     "text": [
      "\n"
     ]
    },
    {
     "data": {
      "application/vnd.jupyter.widget-view+json": {
       "model_id": "fddf30b7d16545c2ac41512c20eb0b17",
       "version_major": 2,
       "version_minor": 0
      },
      "text/plain": [
       "HBox(children=(IntProgress(value=1, bar_style='info', max=1), HTML(value='')))"
      ]
     },
     "metadata": {},
     "output_type": "display_data"
    },
    {
     "name": "stdout",
     "output_type": "stream",
     "text": [
      "\n"
     ]
    },
    {
     "data": {
      "application/vnd.jupyter.widget-view+json": {
       "model_id": "b8af6c74426f4d7bad7cf8c54ec3b0cb",
       "version_major": 2,
       "version_minor": 0
      },
      "text/plain": [
       "HBox(children=(IntProgress(value=1, bar_style='info', max=1), HTML(value='')))"
      ]
     },
     "metadata": {},
     "output_type": "display_data"
    },
    {
     "name": "stdout",
     "output_type": "stream",
     "text": [
      "\n"
     ]
    },
    {
     "data": {
      "application/vnd.jupyter.widget-view+json": {
       "model_id": "d27126b3c6f54a19a18e7be46f13a927",
       "version_major": 2,
       "version_minor": 0
      },
      "text/plain": [
       "HBox(children=(IntProgress(value=1, bar_style='info', max=1), HTML(value='')))"
      ]
     },
     "metadata": {},
     "output_type": "display_data"
    },
    {
     "name": "stdout",
     "output_type": "stream",
     "text": [
      "\n",
      "Processing algorithm item-cosine\n"
     ]
    },
    {
     "data": {
      "application/vnd.jupyter.widget-view+json": {
       "model_id": "7650c47de3294256b03d9e5b562f10e0",
       "version_major": 2,
       "version_minor": 0
      },
      "text/plain": [
       "HBox(children=(IntProgress(value=1, bar_style='info', max=1), HTML(value='')))"
      ]
     },
     "metadata": {},
     "output_type": "display_data"
    },
    {
     "name": "stdout",
     "output_type": "stream",
     "text": [
      "\n"
     ]
    },
    {
     "data": {
      "application/vnd.jupyter.widget-view+json": {
       "model_id": "1a4fbfcf22024f27834e962f7471479e",
       "version_major": 2,
       "version_minor": 0
      },
      "text/plain": [
       "HBox(children=(IntProgress(value=1, bar_style='info', max=1), HTML(value='')))"
      ]
     },
     "metadata": {},
     "output_type": "display_data"
    },
    {
     "name": "stdout",
     "output_type": "stream",
     "text": [
      "\n"
     ]
    },
    {
     "data": {
      "application/vnd.jupyter.widget-view+json": {
       "model_id": "bfc6bc115c2b4429932e6d67f199191e",
       "version_major": 2,
       "version_minor": 0
      },
      "text/plain": [
       "HBox(children=(IntProgress(value=1, bar_style='info', max=1), HTML(value='')))"
      ]
     },
     "metadata": {},
     "output_type": "display_data"
    },
    {
     "name": "stdout",
     "output_type": "stream",
     "text": [
      "\n"
     ]
    },
    {
     "data": {
      "application/vnd.jupyter.widget-view+json": {
       "model_id": "4ab428b6ae9541559779557c7975b83e",
       "version_major": 2,
       "version_minor": 0
      },
      "text/plain": [
       "HBox(children=(IntProgress(value=1, bar_style='info', max=1), HTML(value='')))"
      ]
     },
     "metadata": {},
     "output_type": "display_data"
    },
    {
     "name": "stdout",
     "output_type": "stream",
     "text": [
      "\n"
     ]
    },
    {
     "data": {
      "application/vnd.jupyter.widget-view+json": {
       "model_id": "a26fd82926404647aa87b8ce882ad972",
       "version_major": 2,
       "version_minor": 0
      },
      "text/plain": [
       "HBox(children=(IntProgress(value=1, bar_style='info', max=1), HTML(value='')))"
      ]
     },
     "metadata": {},
     "output_type": "display_data"
    },
    {
     "name": "stdout",
     "output_type": "stream",
     "text": [
      "\n",
      "Processing algorithm PMF\n"
     ]
    },
    {
     "data": {
      "application/vnd.jupyter.widget-view+json": {
       "model_id": "e3036029b9c94e1fb1acae490e17c4e3",
       "version_major": 2,
       "version_minor": 0
      },
      "text/plain": [
       "HBox(children=(IntProgress(value=1, bar_style='info', max=1), HTML(value='')))"
      ]
     },
     "metadata": {},
     "output_type": "display_data"
    },
    {
     "name": "stdout",
     "output_type": "stream",
     "text": [
      "\n"
     ]
    },
    {
     "data": {
      "application/vnd.jupyter.widget-view+json": {
       "model_id": "bce6fb145d614a7d8e4de983219c9b4b",
       "version_major": 2,
       "version_minor": 0
      },
      "text/plain": [
       "HBox(children=(IntProgress(value=1, bar_style='info', max=1), HTML(value='')))"
      ]
     },
     "metadata": {},
     "output_type": "display_data"
    },
    {
     "name": "stdout",
     "output_type": "stream",
     "text": [
      "\n"
     ]
    },
    {
     "data": {
      "application/vnd.jupyter.widget-view+json": {
       "model_id": "fa69ecd703094d38b75b3632e94d4485",
       "version_major": 2,
       "version_minor": 0
      },
      "text/plain": [
       "HBox(children=(IntProgress(value=1, bar_style='info', max=1), HTML(value='')))"
      ]
     },
     "metadata": {},
     "output_type": "display_data"
    },
    {
     "name": "stdout",
     "output_type": "stream",
     "text": [
      "\n"
     ]
    },
    {
     "data": {
      "application/vnd.jupyter.widget-view+json": {
       "model_id": "a181d498eb9945ef92be91e4a066d154",
       "version_major": 2,
       "version_minor": 0
      },
      "text/plain": [
       "HBox(children=(IntProgress(value=1, bar_style='info', max=1), HTML(value='')))"
      ]
     },
     "metadata": {},
     "output_type": "display_data"
    },
    {
     "name": "stdout",
     "output_type": "stream",
     "text": [
      "\n"
     ]
    },
    {
     "data": {
      "application/vnd.jupyter.widget-view+json": {
       "model_id": "c95c6a713fc44c649cbf660b41b8b9b6",
       "version_major": 2,
       "version_minor": 0
      },
      "text/plain": [
       "HBox(children=(IntProgress(value=1, bar_style='info', max=1), HTML(value='')))"
      ]
     },
     "metadata": {},
     "output_type": "display_data"
    },
    {
     "name": "stdout",
     "output_type": "stream",
     "text": [
      "\n",
      "Processing algorithm popularity\n",
      "calculated 0 users\n",
      "calculated 100 users\n",
      "calculated 200 users\n",
      "calculated 300 users\n",
      "calculated 400 users\n",
      "calculated 500 users\n",
      "calculated 600 users\n",
      "calculated 700 users\n",
      "calculated 800 users\n",
      "calculated 900 users\n",
      "calculated 1000 users\n",
      "calculated 1100 users\n",
      "calculated 1200 users\n",
      "calculated 1300 users\n",
      "calculated 1400 users\n",
      "calculated 1500 users\n",
      "calculated 1600 users\n",
      "calculated 1700 users\n",
      "calculated 1800 users\n",
      "calculated 1900 users\n",
      "calculated 2000 users\n",
      "calculated 2100 users\n",
      "calculated 2200 users\n",
      "calculated 2300 users\n",
      "calculated 2400 users\n",
      "calculated 2500 users\n",
      "calculated 2600 users\n",
      "calculated 2700 users\n",
      "calculated 2800 users\n",
      "calculated 2900 users\n",
      "calculated 3000 users\n",
      "calculated 3100 users\n"
     ]
    },
    {
     "data": {
      "application/vnd.jupyter.widget-view+json": {
       "model_id": "e9790ca495a84754b1c57e4ad6161a2f",
       "version_major": 2,
       "version_minor": 0
      },
      "text/plain": [
       "HBox(children=(IntProgress(value=1, bar_style='info', max=1), HTML(value='')))"
      ]
     },
     "metadata": {},
     "output_type": "display_data"
    },
    {
     "name": "stdout",
     "output_type": "stream",
     "text": [
      "\n",
      "calculated 0 users\n",
      "calculated 100 users\n",
      "calculated 200 users\n",
      "calculated 300 users\n",
      "calculated 400 users\n",
      "calculated 500 users\n",
      "calculated 600 users\n",
      "calculated 700 users\n",
      "calculated 800 users\n",
      "calculated 900 users\n",
      "calculated 1000 users\n",
      "calculated 1100 users\n",
      "calculated 1200 users\n",
      "calculated 1300 users\n",
      "calculated 1400 users\n",
      "calculated 1500 users\n",
      "calculated 1600 users\n",
      "calculated 1700 users\n",
      "calculated 1800 users\n",
      "calculated 1900 users\n",
      "calculated 2000 users\n",
      "calculated 2100 users\n",
      "calculated 2200 users\n",
      "calculated 2300 users\n",
      "calculated 2400 users\n",
      "calculated 2500 users\n",
      "calculated 2600 users\n",
      "calculated 2700 users\n",
      "calculated 2800 users\n",
      "calculated 2900 users\n",
      "calculated 3000 users\n",
      "calculated 3100 users\n"
     ]
    },
    {
     "data": {
      "application/vnd.jupyter.widget-view+json": {
       "model_id": "1c4589d96ce642b58785ab2d3fb65ab3",
       "version_major": 2,
       "version_minor": 0
      },
      "text/plain": [
       "HBox(children=(IntProgress(value=1, bar_style='info', max=1), HTML(value='')))"
      ]
     },
     "metadata": {},
     "output_type": "display_data"
    },
    {
     "name": "stdout",
     "output_type": "stream",
     "text": [
      "\n",
      "calculated 0 users\n",
      "calculated 100 users\n",
      "calculated 200 users\n",
      "calculated 300 users\n",
      "calculated 400 users\n",
      "calculated 500 users\n",
      "calculated 600 users\n",
      "calculated 700 users\n",
      "calculated 800 users\n",
      "calculated 900 users\n",
      "calculated 1000 users\n",
      "calculated 1100 users\n",
      "calculated 1200 users\n",
      "calculated 1300 users\n",
      "calculated 1400 users\n",
      "calculated 1500 users\n",
      "calculated 1600 users\n",
      "calculated 1700 users\n",
      "calculated 1800 users\n",
      "calculated 1900 users\n",
      "calculated 2000 users\n",
      "calculated 2100 users\n",
      "calculated 2200 users\n",
      "calculated 2300 users\n",
      "calculated 2400 users\n",
      "calculated 2500 users\n",
      "calculated 2600 users\n",
      "calculated 2700 users\n",
      "calculated 2800 users\n",
      "calculated 2900 users\n",
      "calculated 3000 users\n",
      "calculated 3100 users\n"
     ]
    },
    {
     "data": {
      "application/vnd.jupyter.widget-view+json": {
       "model_id": "6fd60cbec59a491db95f96a2413dea72",
       "version_major": 2,
       "version_minor": 0
      },
      "text/plain": [
       "HBox(children=(IntProgress(value=1, bar_style='info', max=1), HTML(value='')))"
      ]
     },
     "metadata": {},
     "output_type": "display_data"
    },
    {
     "name": "stdout",
     "output_type": "stream",
     "text": [
      "\n",
      "calculated 0 users\n",
      "calculated 100 users\n",
      "calculated 200 users\n",
      "calculated 300 users\n",
      "calculated 400 users\n",
      "calculated 500 users\n",
      "calculated 600 users\n",
      "calculated 700 users\n",
      "calculated 800 users\n",
      "calculated 900 users\n",
      "calculated 1000 users\n",
      "calculated 1100 users\n",
      "calculated 1200 users\n",
      "calculated 1300 users\n",
      "calculated 1400 users\n",
      "calculated 1500 users\n",
      "calculated 1600 users\n",
      "calculated 1700 users\n",
      "calculated 1800 users\n",
      "calculated 1900 users\n",
      "calculated 2000 users\n",
      "calculated 2100 users\n",
      "calculated 2200 users\n",
      "calculated 2300 users\n",
      "calculated 2400 users\n",
      "calculated 2500 users\n",
      "calculated 2600 users\n",
      "calculated 2700 users\n",
      "calculated 2800 users\n",
      "calculated 2900 users\n",
      "calculated 3000 users\n",
      "calculated 3100 users\n"
     ]
    },
    {
     "data": {
      "application/vnd.jupyter.widget-view+json": {
       "model_id": "0d9364b0fa8447919b4ea6448653e155",
       "version_major": 2,
       "version_minor": 0
      },
      "text/plain": [
       "HBox(children=(IntProgress(value=1, bar_style='info', max=1), HTML(value='')))"
      ]
     },
     "metadata": {},
     "output_type": "display_data"
    },
    {
     "name": "stdout",
     "output_type": "stream",
     "text": [
      "\n",
      "calculated 0 users\n",
      "calculated 100 users\n",
      "calculated 200 users\n",
      "calculated 300 users\n",
      "calculated 400 users\n",
      "calculated 500 users\n",
      "calculated 600 users\n",
      "calculated 700 users\n",
      "calculated 800 users\n",
      "calculated 900 users\n",
      "calculated 1000 users\n",
      "calculated 1100 users\n",
      "calculated 1200 users\n",
      "calculated 1300 users\n",
      "calculated 1400 users\n",
      "calculated 1500 users\n",
      "calculated 1600 users\n",
      "calculated 1700 users\n",
      "calculated 1800 users\n",
      "calculated 1900 users\n",
      "calculated 2000 users\n",
      "calculated 2100 users\n",
      "calculated 2200 users\n",
      "calculated 2300 users\n",
      "calculated 2400 users\n",
      "calculated 2500 users\n",
      "calculated 2600 users\n",
      "calculated 2700 users\n",
      "calculated 2800 users\n",
      "calculated 2900 users\n",
      "calculated 3000 users\n",
      "calculated 3100 users\n"
     ]
    },
    {
     "data": {
      "application/vnd.jupyter.widget-view+json": {
       "model_id": "4c4bfe0f4d5b4b6ea1b361d1fbbf5284",
       "version_major": 2,
       "version_minor": 0
      },
      "text/plain": [
       "HBox(children=(IntProgress(value=1, bar_style='info', max=1), HTML(value='')))"
      ]
     },
     "metadata": {},
     "output_type": "display_data"
    },
    {
     "name": "stdout",
     "output_type": "stream",
     "text": [
      "\n",
      "Processing algorithm user-cosine\n"
     ]
    },
    {
     "data": {
      "application/vnd.jupyter.widget-view+json": {
       "model_id": "ec2f21525ff143d080224c346f902c64",
       "version_major": 2,
       "version_minor": 0
      },
      "text/plain": [
       "HBox(children=(IntProgress(value=1, bar_style='info', max=1), HTML(value='')))"
      ]
     },
     "metadata": {},
     "output_type": "display_data"
    },
    {
     "name": "stdout",
     "output_type": "stream",
     "text": [
      "\n"
     ]
    },
    {
     "data": {
      "application/vnd.jupyter.widget-view+json": {
       "model_id": "c7c3c1c4110641daba2f092af722a91b",
       "version_major": 2,
       "version_minor": 0
      },
      "text/plain": [
       "HBox(children=(IntProgress(value=1, bar_style='info', max=1), HTML(value='')))"
      ]
     },
     "metadata": {},
     "output_type": "display_data"
    },
    {
     "name": "stdout",
     "output_type": "stream",
     "text": [
      "\n"
     ]
    },
    {
     "data": {
      "application/vnd.jupyter.widget-view+json": {
       "model_id": "8a9514f02127465ab83cdfee9426f9f0",
       "version_major": 2,
       "version_minor": 0
      },
      "text/plain": [
       "HBox(children=(IntProgress(value=1, bar_style='info', max=1), HTML(value='')))"
      ]
     },
     "metadata": {},
     "output_type": "display_data"
    },
    {
     "name": "stdout",
     "output_type": "stream",
     "text": [
      "\n"
     ]
    },
    {
     "data": {
      "application/vnd.jupyter.widget-view+json": {
       "model_id": "ebbd8a52f54d4e3fae68e0b79d1e62f9",
       "version_major": 2,
       "version_minor": 0
      },
      "text/plain": [
       "HBox(children=(IntProgress(value=1, bar_style='info', max=1), HTML(value='')))"
      ]
     },
     "metadata": {},
     "output_type": "display_data"
    },
    {
     "name": "stdout",
     "output_type": "stream",
     "text": [
      "\n"
     ]
    },
    {
     "data": {
      "application/vnd.jupyter.widget-view+json": {
       "model_id": "1ca8cf8ef2db4348a08e4b053db8c9e2",
       "version_major": 2,
       "version_minor": 0
      },
      "text/plain": [
       "HBox(children=(IntProgress(value=1, bar_style='info', max=1), HTML(value='')))"
      ]
     },
     "metadata": {},
     "output_type": "display_data"
    },
    {
     "name": "stdout",
     "output_type": "stream",
     "text": [
      "\n",
      "Processing algorithm item-cosine\n"
     ]
    },
    {
     "data": {
      "application/vnd.jupyter.widget-view+json": {
       "model_id": "913d5fec43d44c54af284da4357183bb",
       "version_major": 2,
       "version_minor": 0
      },
      "text/plain": [
       "HBox(children=(IntProgress(value=1, bar_style='info', max=1), HTML(value='')))"
      ]
     },
     "metadata": {},
     "output_type": "display_data"
    },
    {
     "name": "stdout",
     "output_type": "stream",
     "text": [
      "\n"
     ]
    },
    {
     "data": {
      "application/vnd.jupyter.widget-view+json": {
       "model_id": "11a58be342e1400dbb1a50df6a0805eb",
       "version_major": 2,
       "version_minor": 0
      },
      "text/plain": [
       "HBox(children=(IntProgress(value=1, bar_style='info', max=1), HTML(value='')))"
      ]
     },
     "metadata": {},
     "output_type": "display_data"
    },
    {
     "name": "stdout",
     "output_type": "stream",
     "text": [
      "\n"
     ]
    },
    {
     "data": {
      "application/vnd.jupyter.widget-view+json": {
       "model_id": "3783caa12f33447a805e70cceae96af7",
       "version_major": 2,
       "version_minor": 0
      },
      "text/plain": [
       "HBox(children=(IntProgress(value=1, bar_style='info', max=1), HTML(value='')))"
      ]
     },
     "metadata": {},
     "output_type": "display_data"
    },
    {
     "name": "stdout",
     "output_type": "stream",
     "text": [
      "\n"
     ]
    },
    {
     "data": {
      "application/vnd.jupyter.widget-view+json": {
       "model_id": "4026c0df15dc4504a97bd940cf2c971d",
       "version_major": 2,
       "version_minor": 0
      },
      "text/plain": [
       "HBox(children=(IntProgress(value=1, bar_style='info', max=1), HTML(value='')))"
      ]
     },
     "metadata": {},
     "output_type": "display_data"
    },
    {
     "name": "stdout",
     "output_type": "stream",
     "text": [
      "\n"
     ]
    },
    {
     "data": {
      "application/vnd.jupyter.widget-view+json": {
       "model_id": "b7883a28b1b040e9a3c853e959fc3a4b",
       "version_major": 2,
       "version_minor": 0
      },
      "text/plain": [
       "HBox(children=(IntProgress(value=1, bar_style='info', max=1), HTML(value='')))"
      ]
     },
     "metadata": {},
     "output_type": "display_data"
    },
    {
     "name": "stdout",
     "output_type": "stream",
     "text": [
      "\n",
      "Processing algorithm PMF\n"
     ]
    },
    {
     "data": {
      "application/vnd.jupyter.widget-view+json": {
       "model_id": "b1acabe8f82d45d192dd5f53f5c7c635",
       "version_major": 2,
       "version_minor": 0
      },
      "text/plain": [
       "HBox(children=(IntProgress(value=1, bar_style='info', max=1), HTML(value='')))"
      ]
     },
     "metadata": {},
     "output_type": "display_data"
    },
    {
     "name": "stdout",
     "output_type": "stream",
     "text": [
      "\n"
     ]
    },
    {
     "data": {
      "application/vnd.jupyter.widget-view+json": {
       "model_id": "9f63d37f441c428d9358644d48b73406",
       "version_major": 2,
       "version_minor": 0
      },
      "text/plain": [
       "HBox(children=(IntProgress(value=1, bar_style='info', max=1), HTML(value='')))"
      ]
     },
     "metadata": {},
     "output_type": "display_data"
    },
    {
     "name": "stdout",
     "output_type": "stream",
     "text": [
      "\n"
     ]
    },
    {
     "data": {
      "application/vnd.jupyter.widget-view+json": {
       "model_id": "57f5762c93644b6db2084866d297c804",
       "version_major": 2,
       "version_minor": 0
      },
      "text/plain": [
       "HBox(children=(IntProgress(value=1, bar_style='info', max=1), HTML(value='')))"
      ]
     },
     "metadata": {},
     "output_type": "display_data"
    },
    {
     "name": "stdout",
     "output_type": "stream",
     "text": [
      "\n"
     ]
    },
    {
     "data": {
      "application/vnd.jupyter.widget-view+json": {
       "model_id": "2e5058b82d0b4a82ac6b9301fde36291",
       "version_major": 2,
       "version_minor": 0
      },
      "text/plain": [
       "HBox(children=(IntProgress(value=1, bar_style='info', max=1), HTML(value='')))"
      ]
     },
     "metadata": {},
     "output_type": "display_data"
    },
    {
     "name": "stdout",
     "output_type": "stream",
     "text": [
      "\n"
     ]
    },
    {
     "data": {
      "application/vnd.jupyter.widget-view+json": {
       "model_id": "1e47fe4695914ba9b4f0d66c970fd318",
       "version_major": 2,
       "version_minor": 0
      },
      "text/plain": [
       "HBox(children=(IntProgress(value=1, bar_style='info', max=1), HTML(value='')))"
      ]
     },
     "metadata": {},
     "output_type": "display_data"
    },
    {
     "name": "stdout",
     "output_type": "stream",
     "text": [
      "\n",
      "Processing algorithm popularity\n",
      "calculated 0 users\n",
      "calculated 100 users\n",
      "calculated 200 users\n",
      "calculated 300 users\n",
      "calculated 400 users\n",
      "calculated 500 users\n",
      "calculated 600 users\n",
      "calculated 700 users\n",
      "calculated 800 users\n",
      "calculated 900 users\n",
      "calculated 1000 users\n",
      "calculated 1100 users\n",
      "calculated 1200 users\n",
      "calculated 1300 users\n",
      "calculated 1400 users\n",
      "calculated 1500 users\n",
      "calculated 1600 users\n",
      "calculated 1700 users\n",
      "calculated 1800 users\n",
      "calculated 1900 users\n",
      "calculated 2000 users\n",
      "calculated 2100 users\n",
      "calculated 2200 users\n",
      "calculated 2300 users\n",
      "calculated 2400 users\n",
      "calculated 2500 users\n",
      "calculated 2600 users\n",
      "calculated 2700 users\n",
      "calculated 2800 users\n",
      "calculated 2900 users\n",
      "calculated 3000 users\n",
      "calculated 3100 users\n"
     ]
    },
    {
     "data": {
      "application/vnd.jupyter.widget-view+json": {
       "model_id": "1e9abb97fd3f41ca815405064926d39d",
       "version_major": 2,
       "version_minor": 0
      },
      "text/plain": [
       "HBox(children=(IntProgress(value=1, bar_style='info', max=1), HTML(value='')))"
      ]
     },
     "metadata": {},
     "output_type": "display_data"
    },
    {
     "name": "stdout",
     "output_type": "stream",
     "text": [
      "\n",
      "calculated 0 users\n",
      "calculated 100 users\n",
      "calculated 200 users\n",
      "calculated 300 users\n",
      "calculated 400 users\n",
      "calculated 500 users\n",
      "calculated 600 users\n",
      "calculated 700 users\n",
      "calculated 800 users\n",
      "calculated 900 users\n",
      "calculated 1000 users\n",
      "calculated 1100 users\n",
      "calculated 1200 users\n",
      "calculated 1300 users\n",
      "calculated 1400 users\n",
      "calculated 1500 users\n",
      "calculated 1600 users\n",
      "calculated 1700 users\n",
      "calculated 1800 users\n",
      "calculated 1900 users\n",
      "calculated 2000 users\n",
      "calculated 2100 users\n",
      "calculated 2200 users\n",
      "calculated 2300 users\n",
      "calculated 2400 users\n",
      "calculated 2500 users\n",
      "calculated 2600 users\n",
      "calculated 2700 users\n",
      "calculated 2800 users\n",
      "calculated 2900 users\n",
      "calculated 3000 users\n",
      "calculated 3100 users\n"
     ]
    },
    {
     "data": {
      "application/vnd.jupyter.widget-view+json": {
       "model_id": "ee9b7807ab194401b20510bb3d29e500",
       "version_major": 2,
       "version_minor": 0
      },
      "text/plain": [
       "HBox(children=(IntProgress(value=1, bar_style='info', max=1), HTML(value='')))"
      ]
     },
     "metadata": {},
     "output_type": "display_data"
    },
    {
     "name": "stdout",
     "output_type": "stream",
     "text": [
      "\n",
      "calculated 0 users\n",
      "calculated 100 users\n",
      "calculated 200 users\n",
      "calculated 300 users\n",
      "calculated 400 users\n",
      "calculated 500 users\n",
      "calculated 600 users\n",
      "calculated 700 users\n",
      "calculated 800 users\n",
      "calculated 900 users\n",
      "calculated 1000 users\n",
      "calculated 1100 users\n",
      "calculated 1200 users\n",
      "calculated 1300 users\n",
      "calculated 1400 users\n",
      "calculated 1500 users\n",
      "calculated 1600 users\n",
      "calculated 1700 users\n",
      "calculated 1800 users\n",
      "calculated 1900 users\n",
      "calculated 2000 users\n",
      "calculated 2100 users\n",
      "calculated 2200 users\n",
      "calculated 2300 users\n",
      "calculated 2400 users\n",
      "calculated 2500 users\n",
      "calculated 2600 users\n",
      "calculated 2700 users\n",
      "calculated 2800 users\n",
      "calculated 2900 users\n",
      "calculated 3000 users\n",
      "calculated 3100 users\n"
     ]
    },
    {
     "data": {
      "application/vnd.jupyter.widget-view+json": {
       "model_id": "f67facd297e34c959552dcf29678c265",
       "version_major": 2,
       "version_minor": 0
      },
      "text/plain": [
       "HBox(children=(IntProgress(value=1, bar_style='info', max=1), HTML(value='')))"
      ]
     },
     "metadata": {},
     "output_type": "display_data"
    },
    {
     "name": "stdout",
     "output_type": "stream",
     "text": [
      "\n",
      "calculated 0 users\n",
      "calculated 100 users\n",
      "calculated 200 users\n",
      "calculated 300 users\n",
      "calculated 400 users\n",
      "calculated 500 users\n",
      "calculated 600 users\n",
      "calculated 700 users\n",
      "calculated 800 users\n",
      "calculated 900 users\n",
      "calculated 1000 users\n",
      "calculated 1100 users\n",
      "calculated 1200 users\n",
      "calculated 1300 users\n",
      "calculated 1400 users\n",
      "calculated 1500 users\n",
      "calculated 1600 users\n",
      "calculated 1700 users\n",
      "calculated 1800 users\n",
      "calculated 1900 users\n",
      "calculated 2000 users\n",
      "calculated 2100 users\n",
      "calculated 2200 users\n",
      "calculated 2300 users\n",
      "calculated 2400 users\n",
      "calculated 2500 users\n",
      "calculated 2600 users\n",
      "calculated 2700 users\n",
      "calculated 2800 users\n",
      "calculated 2900 users\n",
      "calculated 3000 users\n",
      "calculated 3100 users\n"
     ]
    },
    {
     "data": {
      "application/vnd.jupyter.widget-view+json": {
       "model_id": "81515c23d6d64d08985ab856a244e479",
       "version_major": 2,
       "version_minor": 0
      },
      "text/plain": [
       "HBox(children=(IntProgress(value=1, bar_style='info', max=1), HTML(value='')))"
      ]
     },
     "metadata": {},
     "output_type": "display_data"
    },
    {
     "name": "stdout",
     "output_type": "stream",
     "text": [
      "\n",
      "calculated 0 users\n",
      "calculated 100 users\n",
      "calculated 200 users\n",
      "calculated 300 users\n",
      "calculated 400 users\n",
      "calculated 500 users\n",
      "calculated 600 users\n",
      "calculated 700 users\n",
      "calculated 800 users\n",
      "calculated 900 users\n",
      "calculated 1000 users\n",
      "calculated 1100 users\n",
      "calculated 1200 users\n",
      "calculated 1300 users\n",
      "calculated 1400 users\n",
      "calculated 1500 users\n",
      "calculated 1600 users\n",
      "calculated 1700 users\n",
      "calculated 1800 users\n",
      "calculated 1900 users\n",
      "calculated 2000 users\n",
      "calculated 2100 users\n",
      "calculated 2200 users\n",
      "calculated 2300 users\n",
      "calculated 2400 users\n",
      "calculated 2500 users\n",
      "calculated 2600 users\n",
      "calculated 2700 users\n",
      "calculated 2800 users\n",
      "calculated 2900 users\n",
      "calculated 3000 users\n",
      "calculated 3100 users\n"
     ]
    },
    {
     "data": {
      "application/vnd.jupyter.widget-view+json": {
       "model_id": "b823f11f21294114ad93088f73252f22",
       "version_major": 2,
       "version_minor": 0
      },
      "text/plain": [
       "HBox(children=(IntProgress(value=1, bar_style='info', max=1), HTML(value='')))"
      ]
     },
     "metadata": {},
     "output_type": "display_data"
    },
    {
     "name": "stdout",
     "output_type": "stream",
     "text": [
      "\n",
      "Processing algorithm user-cosine\n"
     ]
    },
    {
     "data": {
      "application/vnd.jupyter.widget-view+json": {
       "model_id": "e38a4afeaeb8416eafd99cba470125f2",
       "version_major": 2,
       "version_minor": 0
      },
      "text/plain": [
       "HBox(children=(IntProgress(value=1, bar_style='info', max=1), HTML(value='')))"
      ]
     },
     "metadata": {},
     "output_type": "display_data"
    },
    {
     "name": "stdout",
     "output_type": "stream",
     "text": [
      "\n"
     ]
    },
    {
     "data": {
      "application/vnd.jupyter.widget-view+json": {
       "model_id": "66be6e7bc0c848b9ab36623b2180fc97",
       "version_major": 2,
       "version_minor": 0
      },
      "text/plain": [
       "HBox(children=(IntProgress(value=1, bar_style='info', max=1), HTML(value='')))"
      ]
     },
     "metadata": {},
     "output_type": "display_data"
    },
    {
     "name": "stdout",
     "output_type": "stream",
     "text": [
      "\n"
     ]
    },
    {
     "data": {
      "application/vnd.jupyter.widget-view+json": {
       "model_id": "b9592a8d87e94acdba87ff25c776cf5f",
       "version_major": 2,
       "version_minor": 0
      },
      "text/plain": [
       "HBox(children=(IntProgress(value=1, bar_style='info', max=1), HTML(value='')))"
      ]
     },
     "metadata": {},
     "output_type": "display_data"
    },
    {
     "name": "stdout",
     "output_type": "stream",
     "text": [
      "\n"
     ]
    },
    {
     "data": {
      "application/vnd.jupyter.widget-view+json": {
       "model_id": "1ca935b7e2334a848d57484c1eca0f17",
       "version_major": 2,
       "version_minor": 0
      },
      "text/plain": [
       "HBox(children=(IntProgress(value=1, bar_style='info', max=1), HTML(value='')))"
      ]
     },
     "metadata": {},
     "output_type": "display_data"
    },
    {
     "name": "stdout",
     "output_type": "stream",
     "text": [
      "\n"
     ]
    },
    {
     "data": {
      "application/vnd.jupyter.widget-view+json": {
       "model_id": "e6ae798c0c0049519199d4245c9b2386",
       "version_major": 2,
       "version_minor": 0
      },
      "text/plain": [
       "HBox(children=(IntProgress(value=1, bar_style='info', max=1), HTML(value='')))"
      ]
     },
     "metadata": {},
     "output_type": "display_data"
    },
    {
     "name": "stdout",
     "output_type": "stream",
     "text": [
      "\n",
      "Processing algorithm item-cosine\n"
     ]
    },
    {
     "data": {
      "application/vnd.jupyter.widget-view+json": {
       "model_id": "7264ffcb9b0f4bb08596d9be339b8a24",
       "version_major": 2,
       "version_minor": 0
      },
      "text/plain": [
       "HBox(children=(IntProgress(value=1, bar_style='info', max=1), HTML(value='')))"
      ]
     },
     "metadata": {},
     "output_type": "display_data"
    },
    {
     "name": "stdout",
     "output_type": "stream",
     "text": [
      "\n"
     ]
    },
    {
     "data": {
      "application/vnd.jupyter.widget-view+json": {
       "model_id": "f3f9efbb0e2345c0999b1955511c6af0",
       "version_major": 2,
       "version_minor": 0
      },
      "text/plain": [
       "HBox(children=(IntProgress(value=1, bar_style='info', max=1), HTML(value='')))"
      ]
     },
     "metadata": {},
     "output_type": "display_data"
    },
    {
     "name": "stdout",
     "output_type": "stream",
     "text": [
      "\n"
     ]
    },
    {
     "data": {
      "application/vnd.jupyter.widget-view+json": {
       "model_id": "806ab567b1234d3685ebb7f63df12f5f",
       "version_major": 2,
       "version_minor": 0
      },
      "text/plain": [
       "HBox(children=(IntProgress(value=1, bar_style='info', max=1), HTML(value='')))"
      ]
     },
     "metadata": {},
     "output_type": "display_data"
    },
    {
     "name": "stdout",
     "output_type": "stream",
     "text": [
      "\n"
     ]
    },
    {
     "data": {
      "application/vnd.jupyter.widget-view+json": {
       "model_id": "51718c4ddbf54432b5fc6e2c207a9047",
       "version_major": 2,
       "version_minor": 0
      },
      "text/plain": [
       "HBox(children=(IntProgress(value=1, bar_style='info', max=1), HTML(value='')))"
      ]
     },
     "metadata": {},
     "output_type": "display_data"
    },
    {
     "name": "stdout",
     "output_type": "stream",
     "text": [
      "\n"
     ]
    },
    {
     "data": {
      "application/vnd.jupyter.widget-view+json": {
       "model_id": "1dee55d839894de1a650e25f9e48645f",
       "version_major": 2,
       "version_minor": 0
      },
      "text/plain": [
       "HBox(children=(IntProgress(value=1, bar_style='info', max=1), HTML(value='')))"
      ]
     },
     "metadata": {},
     "output_type": "display_data"
    },
    {
     "name": "stdout",
     "output_type": "stream",
     "text": [
      "\n",
      "Processing algorithm PMF\n"
     ]
    },
    {
     "data": {
      "application/vnd.jupyter.widget-view+json": {
       "model_id": "7824b4b1884e4b6683aacd744cfa854c",
       "version_major": 2,
       "version_minor": 0
      },
      "text/plain": [
       "HBox(children=(IntProgress(value=1, bar_style='info', max=1), HTML(value='')))"
      ]
     },
     "metadata": {},
     "output_type": "display_data"
    },
    {
     "name": "stdout",
     "output_type": "stream",
     "text": [
      "\n"
     ]
    },
    {
     "data": {
      "application/vnd.jupyter.widget-view+json": {
       "model_id": "e2ae0d38ac9547e0aba13196a1e4f1b3",
       "version_major": 2,
       "version_minor": 0
      },
      "text/plain": [
       "HBox(children=(IntProgress(value=1, bar_style='info', max=1), HTML(value='')))"
      ]
     },
     "metadata": {},
     "output_type": "display_data"
    },
    {
     "name": "stdout",
     "output_type": "stream",
     "text": [
      "\n"
     ]
    },
    {
     "data": {
      "application/vnd.jupyter.widget-view+json": {
       "model_id": "2c0d40df2f2e489e9b77e4190770b5a6",
       "version_major": 2,
       "version_minor": 0
      },
      "text/plain": [
       "HBox(children=(IntProgress(value=1, bar_style='info', max=1), HTML(value='')))"
      ]
     },
     "metadata": {},
     "output_type": "display_data"
    },
    {
     "name": "stdout",
     "output_type": "stream",
     "text": [
      "\n"
     ]
    },
    {
     "data": {
      "application/vnd.jupyter.widget-view+json": {
       "model_id": "83ee9b8c8e524a39828f3e9597425693",
       "version_major": 2,
       "version_minor": 0
      },
      "text/plain": [
       "HBox(children=(IntProgress(value=1, bar_style='info', max=1), HTML(value='')))"
      ]
     },
     "metadata": {},
     "output_type": "display_data"
    },
    {
     "name": "stdout",
     "output_type": "stream",
     "text": [
      "\n"
     ]
    },
    {
     "data": {
      "application/vnd.jupyter.widget-view+json": {
       "model_id": "e8056c97c2d7433297e294be2fba652a",
       "version_major": 2,
       "version_minor": 0
      },
      "text/plain": [
       "HBox(children=(IntProgress(value=1, bar_style='info', max=1), HTML(value='')))"
      ]
     },
     "metadata": {},
     "output_type": "display_data"
    },
    {
     "name": "stdout",
     "output_type": "stream",
     "text": [
      "\n"
     ]
    }
   ],
   "source": [
    "algorithm_instances = [popularity_recsys, \n",
    "                       user_cosine_recsys,\n",
    "                       item_cosine_recsys,\n",
    "                       pmf]\n",
    "\n",
    "cv_patk = CrossValidation('P@K')\n",
    "cv_ratk = CrossValidation('R@K')\n",
    "cv_rmse = CrossValidation('RMSE')\n",
    "\n",
    "patk_score = cv_patk.run(algorithm_instances, num_users, num_items,k=5)\n",
    "ratk_score = cv_ratk.run(algorithm_instances, num_users, num_items,k=5)\n",
    "rmse_score = cv_rmse.run(algorithm_instances, num_users, num_items,k=5)"
   ]
  },
  {
   "cell_type": "code",
   "execution_count": 379,
   "metadata": {},
   "outputs": [],
   "source": [
    "col_name = ['RMSE Mean','P@K Mean','R@K Mean']\n",
    "rmse_score_df = pd.DataFrame(rmse_score)[1:].T\n",
    "patk_score_df = pd.DataFrame(patk_score)[1:].T\n",
    "ratk_score_df = pd.DataFrame(ratk_score)[1:].T\n",
    "\n",
    "data_df = pd.concat([rmse_score_df,patk_score_df,ratk_score_df], axis =1)\n",
    "\n",
    "data_df.columns = col_name\n"
   ]
  },
  {
   "cell_type": "code",
   "execution_count": 380,
   "metadata": {},
   "outputs": [
    {
     "data": {
      "text/html": [
       "<div>\n",
       "<style scoped>\n",
       "    .dataframe tbody tr th:only-of-type {\n",
       "        vertical-align: middle;\n",
       "    }\n",
       "\n",
       "    .dataframe tbody tr th {\n",
       "        vertical-align: top;\n",
       "    }\n",
       "\n",
       "    .dataframe thead th {\n",
       "        text-align: right;\n",
       "    }\n",
       "</style>\n",
       "<table border=\"1\" class=\"dataframe\">\n",
       "  <thead>\n",
       "    <tr style=\"text-align: right;\">\n",
       "      <th></th>\n",
       "      <th>RMSE Mean</th>\n",
       "      <th>P@K Mean</th>\n",
       "      <th>R@K Mean</th>\n",
       "    </tr>\n",
       "  </thead>\n",
       "  <tbody>\n",
       "    <tr>\n",
       "      <th>popularity</th>\n",
       "      <td>0.48374</td>\n",
       "      <td>0.0572484</td>\n",
       "      <td>0.304603</td>\n",
       "    </tr>\n",
       "    <tr>\n",
       "      <th>user-cosine</th>\n",
       "      <td>0.0960986</td>\n",
       "      <td>0.00556688</td>\n",
       "      <td>0.0265991</td>\n",
       "    </tr>\n",
       "    <tr>\n",
       "      <th>item-cosine</th>\n",
       "      <td>0.0888415</td>\n",
       "      <td>0.0561146</td>\n",
       "      <td>0.324303</td>\n",
       "    </tr>\n",
       "    <tr>\n",
       "      <th>PMF</th>\n",
       "      <td>0.0896907</td>\n",
       "      <td>0.0390828</td>\n",
       "      <td>0.239742</td>\n",
       "    </tr>\n",
       "  </tbody>\n",
       "</table>\n",
       "</div>"
      ],
      "text/plain": [
       "             RMSE Mean    P@K Mean   R@K Mean\n",
       "popularity     0.48374   0.0572484   0.304603\n",
       "user-cosine  0.0960986  0.00556688  0.0265991\n",
       "item-cosine  0.0888415   0.0561146   0.324303\n",
       "PMF          0.0896907   0.0390828   0.239742"
      ]
     },
     "execution_count": 380,
     "metadata": {},
     "output_type": "execute_result"
    }
   ],
   "source": [
    "data_df"
   ]
  },
  {
   "cell_type": "markdown",
   "metadata": {},
   "source": [
    "Based on the result above, item-cosine tends to perform the best overall. Also, having a user-user similarity may not be so scalable due to large pool of users. It will take a very long time predicting for the champions."
   ]
  },
  {
   "cell_type": "markdown",
   "metadata": {},
   "source": [
    "## Make Recommendations Per Item"
   ]
  },
  {
   "cell_type": "code",
   "execution_count": 28,
   "metadata": {},
   "outputs": [],
   "source": [
    "from numpy import savez_compressed\n",
    "iisimilarity = item_cosine_recsys.similarity\n",
    "savez_compressed('iisimilarity.npz', iisimilarity)"
   ]
  },
  {
   "cell_type": "code",
   "execution_count": 47,
   "metadata": {},
   "outputs": [],
   "source": [
    "iisimilarity = item_cosine_recsys.similarity"
   ]
  },
  {
   "cell_type": "code",
   "execution_count": 48,
   "metadata": {},
   "outputs": [],
   "source": [
    "def top5(iisimilarity, champions_played_df, champion_name,k=10):\n",
    "    # Pick top K based on predicted rating\n",
    "    Champion_ID = champions_played_df[champions_played_df['Champion_Name']==champion_name]['Champion_ID'].values[0]\n",
    "    itemVector = iisimilarity[Champion_ID,:]\n",
    "    topK = nlargest(k+1, range(len(itemVector)), itemVector.take)\n",
    "    topK = topK[1:]\n",
    "    topChamp = list(map(lambda x: champions_played_df[champions_played_df.Champion_ID == x][\"Champion_Name\"].values[0], topK))\n",
    "    return topChamp"
   ]
  },
  {
   "cell_type": "code",
   "execution_count": 67,
   "metadata": {},
   "outputs": [
    {
     "data": {
      "text/plain": [
       "['LeBlanc',\n",
       " 'Orianna',\n",
       " 'Cassiopeia',\n",
       " 'Zoe',\n",
       " 'Sylas',\n",
       " 'Ryze',\n",
       " 'Viktor',\n",
       " 'Qiyana',\n",
       " 'Akali',\n",
       " 'Ezreal']"
      ]
     },
     "execution_count": 67,
     "metadata": {},
     "output_type": "execute_result"
    }
   ],
   "source": [
    "top5(iisimilarity, champions_played_df,'Syndra')"
   ]
  },
  {
   "cell_type": "code",
   "execution_count": 68,
   "metadata": {},
   "outputs": [
    {
     "data": {
      "text/plain": [
       "['Orianna',\n",
       " 'Veigar',\n",
       " 'Syndra',\n",
       " 'Corki',\n",
       " 'Varus',\n",
       " 'Xerath',\n",
       " 'Ezreal',\n",
       " 'Viktor',\n",
       " 'Morgana',\n",
       " 'Senna']"
      ]
     },
     "execution_count": 68,
     "metadata": {},
     "output_type": "execute_result"
    }
   ],
   "source": [
    "top5(iisimilarity, champions_played_df,'Ziggs')"
   ]
  },
  {
   "cell_type": "code",
   "execution_count": 69,
   "metadata": {},
   "outputs": [
    {
     "data": {
      "text/plain": [
       "['Elise',\n",
       " 'Jarvan IV',\n",
       " 'Graves',\n",
       " 'Olaf',\n",
       " 'Ekko',\n",
       " 'Gragas',\n",
       " \"Rek'Sai\",\n",
       " 'Nidalee',\n",
       " \"Kha'Zix\",\n",
       " 'Sylas']"
      ]
     },
     "execution_count": 69,
     "metadata": {},
     "output_type": "execute_result"
    }
   ],
   "source": [
    "top5(iisimilarity, champions_played_df,'Lee Sin')"
   ]
  },
  {
   "cell_type": "markdown",
   "metadata": {},
   "source": [
    "Based on the result, the model actually finds similar champions very well. For exmaple, Syndra is a champion that is a mage, played at middle lane. The recommended system shows most champions that are played at mid that also have similar level of difficulty. "
   ]
  },
  {
   "cell_type": "markdown",
   "metadata": {},
   "source": [
    "## Make Recommendations Per User"
   ]
  },
  {
   "cell_type": "markdown",
   "metadata": {},
   "source": [
    "### Get User Data from Riot API"
   ]
  },
  {
   "cell_type": "code",
   "execution_count": 96,
   "metadata": {},
   "outputs": [],
   "source": [
    "from riotwatcher import LolWatcher, ApiError"
   ]
  },
  {
   "cell_type": "code",
   "execution_count": 97,
   "metadata": {},
   "outputs": [],
   "source": [
    "import json"
   ]
  },
  {
   "cell_type": "code",
   "execution_count": 98,
   "metadata": {
    "scrolled": true
   },
   "outputs": [],
   "source": [
    "champion = pd.read_json(\"champion.json\")"
   ]
  },
  {
   "cell_type": "code",
   "execution_count": 116,
   "metadata": {},
   "outputs": [
    {
     "data": {
      "text/html": [
       "<div>\n",
       "<style scoped>\n",
       "    .dataframe tbody tr th:only-of-type {\n",
       "        vertical-align: middle;\n",
       "    }\n",
       "\n",
       "    .dataframe tbody tr th {\n",
       "        vertical-align: top;\n",
       "    }\n",
       "\n",
       "    .dataframe thead th {\n",
       "        text-align: right;\n",
       "    }\n",
       "</style>\n",
       "<table border=\"1\" class=\"dataframe\">\n",
       "  <thead>\n",
       "    <tr style=\"text-align: right;\">\n",
       "      <th></th>\n",
       "      <th>type</th>\n",
       "      <th>format</th>\n",
       "      <th>version</th>\n",
       "      <th>data</th>\n",
       "    </tr>\n",
       "  </thead>\n",
       "  <tbody>\n",
       "    <tr>\n",
       "      <th>Aatrox</th>\n",
       "      <td>champion</td>\n",
       "      <td>standAloneComplex</td>\n",
       "      <td>10.10.3216176</td>\n",
       "      <td>{'version': '10.10.3216176', 'id': 'Aatrox', '...</td>\n",
       "    </tr>\n",
       "    <tr>\n",
       "      <th>Ahri</th>\n",
       "      <td>champion</td>\n",
       "      <td>standAloneComplex</td>\n",
       "      <td>10.10.3216176</td>\n",
       "      <td>{'version': '10.10.3216176', 'id': 'Ahri', 'ke...</td>\n",
       "    </tr>\n",
       "    <tr>\n",
       "      <th>Akali</th>\n",
       "      <td>champion</td>\n",
       "      <td>standAloneComplex</td>\n",
       "      <td>10.10.3216176</td>\n",
       "      <td>{'version': '10.10.3216176', 'id': 'Akali', 'k...</td>\n",
       "    </tr>\n",
       "    <tr>\n",
       "      <th>Alistar</th>\n",
       "      <td>champion</td>\n",
       "      <td>standAloneComplex</td>\n",
       "      <td>10.10.3216176</td>\n",
       "      <td>{'version': '10.10.3216176', 'id': 'Alistar', ...</td>\n",
       "    </tr>\n",
       "    <tr>\n",
       "      <th>Amumu</th>\n",
       "      <td>champion</td>\n",
       "      <td>standAloneComplex</td>\n",
       "      <td>10.10.3216176</td>\n",
       "      <td>{'version': '10.10.3216176', 'id': 'Amumu', 'k...</td>\n",
       "    </tr>\n",
       "    <tr>\n",
       "      <th>...</th>\n",
       "      <td>...</td>\n",
       "      <td>...</td>\n",
       "      <td>...</td>\n",
       "      <td>...</td>\n",
       "    </tr>\n",
       "    <tr>\n",
       "      <th>Zed</th>\n",
       "      <td>champion</td>\n",
       "      <td>standAloneComplex</td>\n",
       "      <td>10.10.3216176</td>\n",
       "      <td>{'version': '10.10.3216176', 'id': 'Zed', 'key...</td>\n",
       "    </tr>\n",
       "    <tr>\n",
       "      <th>Ziggs</th>\n",
       "      <td>champion</td>\n",
       "      <td>standAloneComplex</td>\n",
       "      <td>10.10.3216176</td>\n",
       "      <td>{'version': '10.10.3216176', 'id': 'Ziggs', 'k...</td>\n",
       "    </tr>\n",
       "    <tr>\n",
       "      <th>Zilean</th>\n",
       "      <td>champion</td>\n",
       "      <td>standAloneComplex</td>\n",
       "      <td>10.10.3216176</td>\n",
       "      <td>{'version': '10.10.3216176', 'id': 'Zilean', '...</td>\n",
       "    </tr>\n",
       "    <tr>\n",
       "      <th>Zoe</th>\n",
       "      <td>champion</td>\n",
       "      <td>standAloneComplex</td>\n",
       "      <td>10.10.3216176</td>\n",
       "      <td>{'version': '10.10.3216176', 'id': 'Zoe', 'key...</td>\n",
       "    </tr>\n",
       "    <tr>\n",
       "      <th>Zyra</th>\n",
       "      <td>champion</td>\n",
       "      <td>standAloneComplex</td>\n",
       "      <td>10.10.3216176</td>\n",
       "      <td>{'version': '10.10.3216176', 'id': 'Zyra', 'ke...</td>\n",
       "    </tr>\n",
       "  </tbody>\n",
       "</table>\n",
       "<p>148 rows × 4 columns</p>\n",
       "</div>"
      ],
      "text/plain": [
       "             type             format        version  \\\n",
       "Aatrox   champion  standAloneComplex  10.10.3216176   \n",
       "Ahri     champion  standAloneComplex  10.10.3216176   \n",
       "Akali    champion  standAloneComplex  10.10.3216176   \n",
       "Alistar  champion  standAloneComplex  10.10.3216176   \n",
       "Amumu    champion  standAloneComplex  10.10.3216176   \n",
       "...           ...                ...            ...   \n",
       "Zed      champion  standAloneComplex  10.10.3216176   \n",
       "Ziggs    champion  standAloneComplex  10.10.3216176   \n",
       "Zilean   champion  standAloneComplex  10.10.3216176   \n",
       "Zoe      champion  standAloneComplex  10.10.3216176   \n",
       "Zyra     champion  standAloneComplex  10.10.3216176   \n",
       "\n",
       "                                                      data  \n",
       "Aatrox   {'version': '10.10.3216176', 'id': 'Aatrox', '...  \n",
       "Ahri     {'version': '10.10.3216176', 'id': 'Ahri', 'ke...  \n",
       "Akali    {'version': '10.10.3216176', 'id': 'Akali', 'k...  \n",
       "Alistar  {'version': '10.10.3216176', 'id': 'Alistar', ...  \n",
       "Amumu    {'version': '10.10.3216176', 'id': 'Amumu', 'k...  \n",
       "...                                                    ...  \n",
       "Zed      {'version': '10.10.3216176', 'id': 'Zed', 'key...  \n",
       "Ziggs    {'version': '10.10.3216176', 'id': 'Ziggs', 'k...  \n",
       "Zilean   {'version': '10.10.3216176', 'id': 'Zilean', '...  \n",
       "Zoe      {'version': '10.10.3216176', 'id': 'Zoe', 'key...  \n",
       "Zyra     {'version': '10.10.3216176', 'id': 'Zyra', 'ke...  \n",
       "\n",
       "[148 rows x 4 columns]"
      ]
     },
     "execution_count": 116,
     "metadata": {},
     "output_type": "execute_result"
    }
   ],
   "source": [
    "champion"
   ]
  },
  {
   "cell_type": "code",
   "execution_count": 120,
   "metadata": {},
   "outputs": [],
   "source": [
    "import json\n",
    "with open('api_champion_list_dict.json', 'r') as f:\n",
    "    data = json.load(f)\n"
   ]
  },
  {
   "cell_type": "code",
   "execution_count": 131,
   "metadata": {},
   "outputs": [],
   "source": [
    "import json\n",
    "with open('champion_list_dict.json', 'r') as f:\n",
    "    data = json.load(f)\n"
   ]
  },
  {
   "cell_type": "code",
   "execution_count": 133,
   "metadata": {},
   "outputs": [
    {
     "data": {
      "text/plain": [
       "65"
      ]
     },
     "execution_count": 133,
     "metadata": {},
     "output_type": "execute_result"
    }
   ],
   "source": [
    "data['Lucian']"
   ]
  },
  {
   "cell_type": "code",
   "execution_count": null,
   "metadata": {},
   "outputs": [],
   "source": [
    "champion_list_dict"
   ]
  },
  {
   "cell_type": "code",
   "execution_count": 99,
   "metadata": {},
   "outputs": [],
   "source": [
    "champion_IDs = []\n",
    "champion_names = []\n",
    "champion_tags = []\n",
    "\n",
    "for data in champion['data']:\n",
    "    champion_IDs.append(data['key'])\n",
    "    champion_names.append(data['name'])\n",
    "    champion_tags.append(data['tags'])\n",
    "    \n",
    "champion_list = pd.DataFrame({'Champion_ID': champion_IDs,\n",
    "                             'Tags': champion_tags}, index = champion_names)\n",
    "champion_list['Champion_ID'] = champion_list['Champion_ID'].astype(int)"
   ]
  },
  {
   "cell_type": "code",
   "execution_count": 100,
   "metadata": {
    "scrolled": true
   },
   "outputs": [
    {
     "data": {
      "text/plain": [
       "Index(['Aatrox', 'Ahri', 'Akali', 'Alistar', 'Amumu', 'Anivia', 'Annie',\n",
       "       'Aphelios', 'Ashe', 'Aurelion Sol',\n",
       "       ...\n",
       "       'Xin Zhao', 'Yasuo', 'Yorick', 'Yuumi', 'Zac', 'Zed', 'Ziggs', 'Zilean',\n",
       "       'Zoe', 'Zyra'],\n",
       "      dtype='object', length=148)"
      ]
     },
     "execution_count": 100,
     "metadata": {},
     "output_type": "execute_result"
    }
   ],
   "source": [
    "champion_list.index"
   ]
  },
  {
   "cell_type": "code",
   "execution_count": 101,
   "metadata": {},
   "outputs": [],
   "source": [
    "# golbal variables\n",
    "# Include your own API Key\n",
    "api_key = '---'\n",
    "watcher = LolWatcher(api_key)\n",
    "region = 'na1'"
   ]
  },
  {
   "cell_type": "code",
   "execution_count": 102,
   "metadata": {},
   "outputs": [],
   "source": [
    "def get_total_games(region, summoner_id):\n",
    "    ranked_stats = watcher.league.by_summoner(region,summoner_id)\n",
    "    total_games = 0\n",
    "\n",
    "    for ranked_mode in ranked_stats:\n",
    "        total_games += ranked_mode['wins'] + ranked_mode['losses']\n",
    "    return total_games"
   ]
  },
  {
   "cell_type": "code",
   "execution_count": 103,
   "metadata": {},
   "outputs": [],
   "source": [
    "    summoner_id = summoner_info['id']\n",
    "    summoner_account_id = summoner_info['accountId']\n"
   ]
  },
  {
   "cell_type": "code",
   "execution_count": 104,
   "metadata": {},
   "outputs": [],
   "source": [
    "ranked_stats = watcher.league.by_summoner(region,summoner_id)"
   ]
  },
  {
   "cell_type": "code",
   "execution_count": 105,
   "metadata": {},
   "outputs": [],
   "source": [
    "match_lists = watcher.match.matchlist_by_account(region, summoner_account_id,queue=[420,440],begin_index=0, end_index=100)"
   ]
  },
  {
   "cell_type": "code",
   "execution_count": 107,
   "metadata": {},
   "outputs": [
    {
     "data": {
      "text/plain": [
       "[{'platformId': 'NA1',\n",
       "  'gameId': 3885477840,\n",
       "  'champion': 18,\n",
       "  'queue': 420,\n",
       "  'season': 13,\n",
       "  'timestamp': 1619666467638,\n",
       "  'role': 'DUO_CARRY',\n",
       "  'lane': 'BOTTOM'},\n",
       " {'platformId': 'NA1',\n",
       "  'gameId': 3883795959,\n",
       "  'champion': 360,\n",
       "  'queue': 420,\n",
       "  'season': 13,\n",
       "  'timestamp': 1619572450645,\n",
       "  'role': 'DUO_CARRY',\n",
       "  'lane': 'BOTTOM'},\n",
       " {'platformId': 'NA1',\n",
       "  'gameId': 3883708804,\n",
       "  'champion': 498,\n",
       "  'queue': 420,\n",
       "  'season': 13,\n",
       "  'timestamp': 1619569624707,\n",
       "  'role': 'DUO_CARRY',\n",
       "  'lane': 'BOTTOM'},\n",
       " {'platformId': 'NA1',\n",
       "  'gameId': 3883637431,\n",
       "  'champion': 51,\n",
       "  'queue': 420,\n",
       "  'season': 13,\n",
       "  'timestamp': 1619564615860,\n",
       "  'role': 'DUO_CARRY',\n",
       "  'lane': 'BOTTOM'},\n",
       " {'platformId': 'NA1',\n",
       "  'gameId': 3883577452,\n",
       "  'champion': 202,\n",
       "  'queue': 420,\n",
       "  'season': 13,\n",
       "  'timestamp': 1619559737647,\n",
       "  'role': 'DUO_CARRY',\n",
       "  'lane': 'BOTTOM'},\n",
       " {'platformId': 'NA1',\n",
       "  'gameId': 3877554613,\n",
       "  'champion': 12,\n",
       "  'queue': 420,\n",
       "  'season': 13,\n",
       "  'timestamp': 1619142084077,\n",
       "  'role': 'DUO_SUPPORT',\n",
       "  'lane': 'BOTTOM'},\n",
       " {'platformId': 'NA1',\n",
       "  'gameId': 3875215488,\n",
       "  'champion': 222,\n",
       "  'queue': 420,\n",
       "  'season': 13,\n",
       "  'timestamp': 1618971698829,\n",
       "  'role': 'DUO_CARRY',\n",
       "  'lane': 'BOTTOM'},\n",
       " {'platformId': 'NA1',\n",
       "  'gameId': 3875139285,\n",
       "  'champion': 81,\n",
       "  'queue': 420,\n",
       "  'season': 13,\n",
       "  'timestamp': 1618969565571,\n",
       "  'role': 'DUO',\n",
       "  'lane': 'TOP'},\n",
       " {'platformId': 'NA1',\n",
       "  'gameId': 3875142626,\n",
       "  'champion': 67,\n",
       "  'queue': 420,\n",
       "  'season': 13,\n",
       "  'timestamp': 1618967335119,\n",
       "  'role': 'DUO_SUPPORT',\n",
       "  'lane': 'NONE'},\n",
       " {'platformId': 'NA1',\n",
       "  'gameId': 3875016978,\n",
       "  'champion': 61,\n",
       "  'queue': 420,\n",
       "  'season': 13,\n",
       "  'timestamp': 1618964853820,\n",
       "  'role': 'SOLO',\n",
       "  'lane': 'MID'},\n",
       " {'platformId': 'NA1',\n",
       "  'gameId': 3874982049,\n",
       "  'champion': 81,\n",
       "  'queue': 420,\n",
       "  'season': 13,\n",
       "  'timestamp': 1618958486705,\n",
       "  'role': 'DUO_SUPPORT',\n",
       "  'lane': 'NONE'},\n",
       " {'platformId': 'NA1',\n",
       "  'gameId': 3873712386,\n",
       "  'champion': 51,\n",
       "  'queue': 420,\n",
       "  'season': 13,\n",
       "  'timestamp': 1618878434006,\n",
       "  'role': 'DUO_CARRY',\n",
       "  'lane': 'BOTTOM'},\n",
       " {'platformId': 'NA1',\n",
       "  'gameId': 3873626246,\n",
       "  'champion': 18,\n",
       "  'queue': 420,\n",
       "  'season': 13,\n",
       "  'timestamp': 1618875760227,\n",
       "  'role': 'DUO_CARRY',\n",
       "  'lane': 'BOTTOM'},\n",
       " {'platformId': 'NA1',\n",
       "  'gameId': 3873621798,\n",
       "  'champion': 15,\n",
       "  'queue': 420,\n",
       "  'season': 13,\n",
       "  'timestamp': 1618873751298,\n",
       "  'role': 'DUO_CARRY',\n",
       "  'lane': 'BOTTOM'},\n",
       " {'platformId': 'NA1',\n",
       "  'gameId': 3872852800,\n",
       "  'champion': 235,\n",
       "  'queue': 420,\n",
       "  'season': 13,\n",
       "  'timestamp': 1618802955005,\n",
       "  'role': 'DUO_SUPPORT',\n",
       "  'lane': 'BOTTOM'},\n",
       " {'platformId': 'NA1',\n",
       "  'gameId': 3872810714,\n",
       "  'champion': 145,\n",
       "  'queue': 420,\n",
       "  'season': 13,\n",
       "  'timestamp': 1618799351739,\n",
       "  'role': 'DUO_CARRY',\n",
       "  'lane': 'BOTTOM'},\n",
       " {'platformId': 'NA1',\n",
       "  'gameId': 3872612384,\n",
       "  'champion': 51,\n",
       "  'queue': 420,\n",
       "  'season': 13,\n",
       "  'timestamp': 1618796751716,\n",
       "  'role': 'DUO_CARRY',\n",
       "  'lane': 'BOTTOM'},\n",
       " {'platformId': 'NA1',\n",
       "  'gameId': 3872414442,\n",
       "  'champion': 222,\n",
       "  'queue': 420,\n",
       "  'season': 13,\n",
       "  'timestamp': 1618793896919,\n",
       "  'role': 'SOLO',\n",
       "  'lane': 'BOTTOM'},\n",
       " {'platformId': 'NA1',\n",
       "  'gameId': 3872363448,\n",
       "  'champion': 498,\n",
       "  'queue': 420,\n",
       "  'season': 13,\n",
       "  'timestamp': 1618790223127,\n",
       "  'role': 'DUO_CARRY',\n",
       "  'lane': 'BOTTOM'},\n",
       " {'platformId': 'NA1',\n",
       "  'gameId': 3872288066,\n",
       "  'champion': 523,\n",
       "  'queue': 420,\n",
       "  'season': 13,\n",
       "  'timestamp': 1618788060323,\n",
       "  'role': 'DUO_CARRY',\n",
       "  'lane': 'BOTTOM'},\n",
       " {'platformId': 'NA1',\n",
       "  'gameId': 3872222713,\n",
       "  'champion': 18,\n",
       "  'queue': 420,\n",
       "  'season': 13,\n",
       "  'timestamp': 1618785011358,\n",
       "  'role': 'DUO_SUPPORT',\n",
       "  'lane': 'NONE'},\n",
       " {'platformId': 'NA1',\n",
       "  'gameId': 3872216066,\n",
       "  'champion': 360,\n",
       "  'queue': 420,\n",
       "  'season': 13,\n",
       "  'timestamp': 1618782678242,\n",
       "  'role': 'DUO_CARRY',\n",
       "  'lane': 'BOTTOM'},\n",
       " {'platformId': 'NA1',\n",
       "  'gameId': 3871308718,\n",
       "  'champion': 517,\n",
       "  'queue': 420,\n",
       "  'season': 13,\n",
       "  'timestamp': 1618711478050,\n",
       "  'role': 'SOLO',\n",
       "  'lane': 'MID'},\n",
       " {'platformId': 'NA1',\n",
       "  'gameId': 3869744934,\n",
       "  'champion': 67,\n",
       "  'queue': 420,\n",
       "  'season': 13,\n",
       "  'timestamp': 1618618294134,\n",
       "  'role': 'DUO_CARRY',\n",
       "  'lane': 'BOTTOM'},\n",
       " {'platformId': 'NA1',\n",
       "  'gameId': 3867045539,\n",
       "  'champion': 51,\n",
       "  'queue': 420,\n",
       "  'season': 13,\n",
       "  'timestamp': 1618453663457,\n",
       "  'role': 'DUO_CARRY',\n",
       "  'lane': 'BOTTOM'},\n",
       " {'platformId': 'NA1',\n",
       "  'gameId': 3862134020,\n",
       "  'champion': 110,\n",
       "  'queue': 420,\n",
       "  'season': 13,\n",
       "  'timestamp': 1618120221189,\n",
       "  'role': 'DUO_CARRY',\n",
       "  'lane': 'BOTTOM'},\n",
       " {'platformId': 'NA1',\n",
       "  'gameId': 3862037821,\n",
       "  'champion': 498,\n",
       "  'queue': 420,\n",
       "  'season': 13,\n",
       "  'timestamp': 1618117610208,\n",
       "  'role': 'DUO_CARRY',\n",
       "  'lane': 'BOTTOM'},\n",
       " {'platformId': 'NA1',\n",
       "  'gameId': 3861991277,\n",
       "  'champion': 147,\n",
       "  'queue': 420,\n",
       "  'season': 13,\n",
       "  'timestamp': 1618114935170,\n",
       "  'role': 'DUO_CARRY',\n",
       "  'lane': 'BOTTOM'},\n",
       " {'platformId': 'NA1',\n",
       "  'gameId': 3860762010,\n",
       "  'champion': 498,\n",
       "  'queue': 420,\n",
       "  'season': 13,\n",
       "  'timestamp': 1618034158082,\n",
       "  'role': 'DUO_CARRY',\n",
       "  'lane': 'BOTTOM'},\n",
       " {'platformId': 'NA1',\n",
       "  'gameId': 3860715646,\n",
       "  'champion': 81,\n",
       "  'queue': 420,\n",
       "  'season': 13,\n",
       "  'timestamp': 1618032644351,\n",
       "  'role': 'DUO_SUPPORT',\n",
       "  'lane': 'NONE'},\n",
       " {'platformId': 'NA1',\n",
       "  'gameId': 3860634519,\n",
       "  'champion': 498,\n",
       "  'queue': 420,\n",
       "  'season': 13,\n",
       "  'timestamp': 1618028911067,\n",
       "  'role': 'DUO_CARRY',\n",
       "  'lane': 'BOTTOM'},\n",
       " {'platformId': 'NA1',\n",
       "  'gameId': 3860591369,\n",
       "  'champion': 51,\n",
       "  'queue': 420,\n",
       "  'season': 13,\n",
       "  'timestamp': 1618027198428,\n",
       "  'role': 'DUO',\n",
       "  'lane': 'NONE'},\n",
       " {'platformId': 'NA1',\n",
       "  'gameId': 3860554610,\n",
       "  'champion': 18,\n",
       "  'queue': 420,\n",
       "  'season': 13,\n",
       "  'timestamp': 1618025499185,\n",
       "  'role': 'DUO_SUPPORT',\n",
       "  'lane': 'NONE'},\n",
       " {'platformId': 'NA1',\n",
       "  'gameId': 3859635023,\n",
       "  'champion': 498,\n",
       "  'queue': 420,\n",
       "  'season': 13,\n",
       "  'timestamp': 1617954331881,\n",
       "  'role': 'DUO_SUPPORT',\n",
       "  'lane': 'NONE'},\n",
       " {'platformId': 'NA1',\n",
       "  'gameId': 3859621588,\n",
       "  'champion': 147,\n",
       "  'queue': 420,\n",
       "  'season': 13,\n",
       "  'timestamp': 1617951818893,\n",
       "  'role': 'DUO_CARRY',\n",
       "  'lane': 'BOTTOM'},\n",
       " {'platformId': 'NA1',\n",
       "  'gameId': 3859529239,\n",
       "  'champion': 81,\n",
       "  'queue': 420,\n",
       "  'season': 13,\n",
       "  'timestamp': 1617950347618,\n",
       "  'role': 'DUO_SUPPORT',\n",
       "  'lane': 'NONE'},\n",
       " {'platformId': 'NA1',\n",
       "  'gameId': 3858226870,\n",
       "  'champion': 15,\n",
       "  'queue': 420,\n",
       "  'season': 13,\n",
       "  'timestamp': 1617861433958,\n",
       "  'role': 'DUO_CARRY',\n",
       "  'lane': 'BOTTOM'},\n",
       " {'platformId': 'NA1',\n",
       "  'gameId': 3858231992,\n",
       "  'champion': 18,\n",
       "  'queue': 420,\n",
       "  'season': 13,\n",
       "  'timestamp': 1617859617374,\n",
       "  'role': 'DUO_SUPPORT',\n",
       "  'lane': 'NONE'},\n",
       " {'platformId': 'NA1',\n",
       "  'gameId': 3857085367,\n",
       "  'champion': 15,\n",
       "  'queue': 420,\n",
       "  'season': 13,\n",
       "  'timestamp': 1617777975029,\n",
       "  'role': 'DUO_CARRY',\n",
       "  'lane': 'BOTTOM'},\n",
       " {'platformId': 'NA1',\n",
       "  'gameId': 3857031819,\n",
       "  'champion': 236,\n",
       "  'queue': 420,\n",
       "  'season': 13,\n",
       "  'timestamp': 1617775384819,\n",
       "  'role': 'SOLO',\n",
       "  'lane': 'MID'},\n",
       " {'platformId': 'NA1',\n",
       "  'gameId': 3856988013,\n",
       "  'champion': 15,\n",
       "  'queue': 420,\n",
       "  'season': 13,\n",
       "  'timestamp': 1617773868578,\n",
       "  'role': 'DUO_SUPPORT',\n",
       "  'lane': 'NONE'},\n",
       " {'platformId': 'NA1',\n",
       "  'gameId': 3856962459,\n",
       "  'champion': 110,\n",
       "  'queue': 420,\n",
       "  'season': 13,\n",
       "  'timestamp': 1617771499623,\n",
       "  'role': 'DUO_CARRY',\n",
       "  'lane': 'BOTTOM'},\n",
       " {'platformId': 'NA1',\n",
       "  'gameId': 3856892010,\n",
       "  'champion': 14,\n",
       "  'queue': 420,\n",
       "  'season': 13,\n",
       "  'timestamp': 1617767868519,\n",
       "  'role': 'NONE',\n",
       "  'lane': 'JUNGLE'},\n",
       " {'platformId': 'NA1',\n",
       "  'gameId': 3856802471,\n",
       "  'champion': 110,\n",
       "  'queue': 420,\n",
       "  'season': 13,\n",
       "  'timestamp': 1617765089939,\n",
       "  'role': 'DUO_CARRY',\n",
       "  'lane': 'BOTTOM'},\n",
       " {'platformId': 'NA1',\n",
       "  'gameId': 3855790433,\n",
       "  'champion': 110,\n",
       "  'queue': 420,\n",
       "  'season': 13,\n",
       "  'timestamp': 1617687591977,\n",
       "  'role': 'DUO_CARRY',\n",
       "  'lane': 'BOTTOM'},\n",
       " {'platformId': 'NA1',\n",
       "  'gameId': 3855705834,\n",
       "  'champion': 202,\n",
       "  'queue': 420,\n",
       "  'season': 13,\n",
       "  'timestamp': 1617685396264,\n",
       "  'role': 'DUO',\n",
       "  'lane': 'NONE'},\n",
       " {'platformId': 'NA1',\n",
       "  'gameId': 3855671454,\n",
       "  'champion': 81,\n",
       "  'queue': 420,\n",
       "  'season': 13,\n",
       "  'timestamp': 1617683564376,\n",
       "  'role': 'DUO_SUPPORT',\n",
       "  'lane': 'NONE'},\n",
       " {'platformId': 'NA1',\n",
       "  'gameId': 3855605917,\n",
       "  'champion': 81,\n",
       "  'queue': 420,\n",
       "  'season': 13,\n",
       "  'timestamp': 1617681780612,\n",
       "  'role': 'DUO_SUPPORT',\n",
       "  'lane': 'NONE'},\n",
       " {'platformId': 'NA1',\n",
       "  'gameId': 3851655042,\n",
       "  'champion': 12,\n",
       "  'queue': 420,\n",
       "  'season': 13,\n",
       "  'timestamp': 1617424005842,\n",
       "  'role': 'DUO_SUPPORT',\n",
       "  'lane': 'BOTTOM'},\n",
       " {'platformId': 'NA1',\n",
       "  'gameId': 3851589350,\n",
       "  'champion': 81,\n",
       "  'queue': 420,\n",
       "  'season': 13,\n",
       "  'timestamp': 1617422394149,\n",
       "  'role': 'DUO_SUPPORT',\n",
       "  'lane': 'NONE'},\n",
       " {'platformId': 'NA1',\n",
       "  'gameId': 3851540298,\n",
       "  'champion': 222,\n",
       "  'queue': 420,\n",
       "  'season': 13,\n",
       "  'timestamp': 1617419447183,\n",
       "  'role': 'DUO_CARRY',\n",
       "  'lane': 'BOTTOM'},\n",
       " {'platformId': 'NA1',\n",
       "  'gameId': 3850542985,\n",
       "  'champion': 429,\n",
       "  'queue': 420,\n",
       "  'season': 13,\n",
       "  'timestamp': 1617343800497,\n",
       "  'role': 'DUO_CARRY',\n",
       "  'lane': 'BOTTOM'},\n",
       " {'platformId': 'NA1',\n",
       "  'gameId': 3850425194,\n",
       "  'champion': 110,\n",
       "  'queue': 420,\n",
       "  'season': 13,\n",
       "  'timestamp': 1617340684320,\n",
       "  'role': 'DUO_CARRY',\n",
       "  'lane': 'BOTTOM'},\n",
       " {'platformId': 'NA1',\n",
       "  'gameId': 3850349480,\n",
       "  'champion': 18,\n",
       "  'queue': 420,\n",
       "  'season': 13,\n",
       "  'timestamp': 1617338839333,\n",
       "  'role': 'DUO_CARRY',\n",
       "  'lane': 'BOTTOM'},\n",
       " {'platformId': 'NA1',\n",
       "  'gameId': 3850392564,\n",
       "  'champion': 429,\n",
       "  'queue': 420,\n",
       "  'season': 13,\n",
       "  'timestamp': 1617336947920,\n",
       "  'role': 'DUO_CARRY',\n",
       "  'lane': 'BOTTOM'},\n",
       " {'platformId': 'NA1',\n",
       "  'gameId': 3848815279,\n",
       "  'champion': 67,\n",
       "  'queue': 420,\n",
       "  'season': 13,\n",
       "  'timestamp': 1617244623738,\n",
       "  'role': 'DUO_CARRY',\n",
       "  'lane': 'BOTTOM'},\n",
       " {'platformId': 'NA1',\n",
       "  'gameId': 3847711672,\n",
       "  'champion': 67,\n",
       "  'queue': 420,\n",
       "  'season': 13,\n",
       "  'timestamp': 1617174848707,\n",
       "  'role': 'DUO_CARRY',\n",
       "  'lane': 'BOTTOM'},\n",
       " {'platformId': 'NA1',\n",
       "  'gameId': 3847604417,\n",
       "  'champion': 67,\n",
       "  'queue': 420,\n",
       "  'season': 13,\n",
       "  'timestamp': 1617170457894,\n",
       "  'role': 'DUO_CARRY',\n",
       "  'lane': 'BOTTOM'},\n",
       " {'platformId': 'NA1',\n",
       "  'gameId': 3847518078,\n",
       "  'champion': 67,\n",
       "  'queue': 420,\n",
       "  'season': 13,\n",
       "  'timestamp': 1617167704872,\n",
       "  'role': 'DUO_CARRY',\n",
       "  'lane': 'BOTTOM'},\n",
       " {'platformId': 'NA1',\n",
       "  'gameId': 3847512113,\n",
       "  'champion': 236,\n",
       "  'queue': 420,\n",
       "  'season': 13,\n",
       "  'timestamp': 1617165414521,\n",
       "  'role': 'DUO_SUPPORT',\n",
       "  'lane': 'NONE'},\n",
       " {'platformId': 'NA1',\n",
       "  'gameId': 3847442271,\n",
       "  'champion': 429,\n",
       "  'queue': 420,\n",
       "  'season': 13,\n",
       "  'timestamp': 1617162043146,\n",
       "  'role': 'DUO_CARRY',\n",
       "  'lane': 'BOTTOM'},\n",
       " {'platformId': 'NA1',\n",
       "  'gameId': 3847393809,\n",
       "  'champion': 412,\n",
       "  'queue': 420,\n",
       "  'season': 13,\n",
       "  'timestamp': 1617159453325,\n",
       "  'role': 'DUO_SUPPORT',\n",
       "  'lane': 'BOTTOM'},\n",
       " {'platformId': 'NA1',\n",
       "  'gameId': 3846532465,\n",
       "  'champion': 145,\n",
       "  'queue': 420,\n",
       "  'season': 13,\n",
       "  'timestamp': 1617082892139,\n",
       "  'role': 'DUO_CARRY',\n",
       "  'lane': 'BOTTOM'},\n",
       " {'platformId': 'NA1',\n",
       "  'gameId': 3846447855,\n",
       "  'champion': 67,\n",
       "  'queue': 420,\n",
       "  'season': 13,\n",
       "  'timestamp': 1617080725280,\n",
       "  'role': 'DUO_CARRY',\n",
       "  'lane': 'BOTTOM'},\n",
       " {'platformId': 'NA1',\n",
       "  'gameId': 3846461475,\n",
       "  'champion': 202,\n",
       "  'queue': 420,\n",
       "  'season': 13,\n",
       "  'timestamp': 1617078467359,\n",
       "  'role': 'SOLO',\n",
       "  'lane': 'BOTTOM'},\n",
       " {'platformId': 'NA1',\n",
       "  'gameId': 3846373891,\n",
       "  'champion': 67,\n",
       "  'queue': 420,\n",
       "  'season': 13,\n",
       "  'timestamp': 1617075594013,\n",
       "  'role': 'DUO_CARRY',\n",
       "  'lane': 'BOTTOM'},\n",
       " {'platformId': 'NA1',\n",
       "  'gameId': 3846317980,\n",
       "  'champion': 147,\n",
       "  'queue': 420,\n",
       "  'season': 13,\n",
       "  'timestamp': 1617073735184,\n",
       "  'role': 'DUO_SUPPORT',\n",
       "  'lane': 'NONE'},\n",
       " {'platformId': 'NA1',\n",
       "  'gameId': 3845186901,\n",
       "  'champion': 145,\n",
       "  'queue': 420,\n",
       "  'season': 13,\n",
       "  'timestamp': 1616997610089,\n",
       "  'role': 'DUO_CARRY',\n",
       "  'lane': 'BOTTOM'},\n",
       " {'platformId': 'NA1',\n",
       "  'gameId': 3845139296,\n",
       "  'champion': 67,\n",
       "  'queue': 420,\n",
       "  'season': 13,\n",
       "  'timestamp': 1616994351173,\n",
       "  'role': 'DUO_CARRY',\n",
       "  'lane': 'BOTTOM'},\n",
       " {'platformId': 'NA1',\n",
       "  'gameId': 3845150641,\n",
       "  'champion': 110,\n",
       "  'queue': 420,\n",
       "  'season': 13,\n",
       "  'timestamp': 1616991345006,\n",
       "  'role': 'DUO_CARRY',\n",
       "  'lane': 'BOTTOM'},\n",
       " {'platformId': 'NA1',\n",
       "  'gameId': 3842673209,\n",
       "  'champion': 18,\n",
       "  'queue': 420,\n",
       "  'season': 13,\n",
       "  'timestamp': 1616821487874,\n",
       "  'role': 'DUO_CARRY',\n",
       "  'lane': 'BOTTOM'},\n",
       " {'platformId': 'NA1',\n",
       "  'gameId': 3842596758,\n",
       "  'champion': 498,\n",
       "  'queue': 420,\n",
       "  'season': 13,\n",
       "  'timestamp': 1616819176673,\n",
       "  'role': 'DUO_CARRY',\n",
       "  'lane': 'BOTTOM'},\n",
       " {'platformId': 'NA1',\n",
       "  'gameId': 3842567454,\n",
       "  'champion': 222,\n",
       "  'queue': 420,\n",
       "  'season': 13,\n",
       "  'timestamp': 1616816572449,\n",
       "  'role': 'DUO_CARRY',\n",
       "  'lane': 'BOTTOM'},\n",
       " {'platformId': 'NA1',\n",
       "  'gameId': 3842498851,\n",
       "  'champion': 15,\n",
       "  'queue': 420,\n",
       "  'season': 13,\n",
       "  'timestamp': 1616813703650,\n",
       "  'role': 'SOLO',\n",
       "  'lane': 'BOTTOM'},\n",
       " {'platformId': 'NA1',\n",
       "  'gameId': 3842473195,\n",
       "  'champion': 202,\n",
       "  'queue': 420,\n",
       "  'season': 13,\n",
       "  'timestamp': 1616811607950,\n",
       "  'role': 'DUO_CARRY',\n",
       "  'lane': 'BOTTOM'},\n",
       " {'platformId': 'NA1',\n",
       "  'gameId': 3841433264,\n",
       "  'champion': 18,\n",
       "  'queue': 420,\n",
       "  'season': 13,\n",
       "  'timestamp': 1616739255797,\n",
       "  'role': 'DUO_CARRY',\n",
       "  'lane': 'BOTTOM'},\n",
       " {'platformId': 'NA1',\n",
       "  'gameId': 3841365884,\n",
       "  'champion': 145,\n",
       "  'queue': 420,\n",
       "  'season': 13,\n",
       "  'timestamp': 1616735925852,\n",
       "  'role': 'DUO',\n",
       "  'lane': 'TOP'},\n",
       " {'platformId': 'NA1',\n",
       "  'gameId': 3841289494,\n",
       "  'champion': 51,\n",
       "  'queue': 420,\n",
       "  'season': 13,\n",
       "  'timestamp': 1616733153955,\n",
       "  'role': 'DUO_CARRY',\n",
       "  'lane': 'BOTTOM'},\n",
       " {'platformId': 'NA1',\n",
       "  'gameId': 3841262861,\n",
       "  'champion': 157,\n",
       "  'queue': 420,\n",
       "  'season': 13,\n",
       "  'timestamp': 1616730470755,\n",
       "  'role': 'DUO_CARRY',\n",
       "  'lane': 'BOTTOM'},\n",
       " {'platformId': 'NA1',\n",
       "  'gameId': 3841224174,\n",
       "  'champion': 81,\n",
       "  'queue': 420,\n",
       "  'season': 13,\n",
       "  'timestamp': 1616728055917,\n",
       "  'role': 'SOLO',\n",
       "  'lane': 'BOTTOM'},\n",
       " {'platformId': 'NA1',\n",
       "  'gameId': 3841146574,\n",
       "  'champion': 222,\n",
       "  'queue': 420,\n",
       "  'season': 13,\n",
       "  'timestamp': 1616725295342,\n",
       "  'role': 'DUO_CARRY',\n",
       "  'lane': 'BOTTOM'},\n",
       " {'platformId': 'NA1',\n",
       "  'gameId': 3841089603,\n",
       "  'champion': 51,\n",
       "  'queue': 420,\n",
       "  'season': 13,\n",
       "  'timestamp': 1616723243046,\n",
       "  'role': 'DUO_CARRY',\n",
       "  'lane': 'BOTTOM'},\n",
       " {'platformId': 'NA1',\n",
       "  'gameId': 3840423511,\n",
       "  'champion': 12,\n",
       "  'queue': 420,\n",
       "  'season': 13,\n",
       "  'timestamp': 1616656544400,\n",
       "  'role': 'DUO_SUPPORT',\n",
       "  'lane': 'BOTTOM'},\n",
       " {'platformId': 'NA1',\n",
       "  'gameId': 3840419846,\n",
       "  'champion': 18,\n",
       "  'queue': 420,\n",
       "  'season': 13,\n",
       "  'timestamp': 1616654397650,\n",
       "  'role': 'DUO_CARRY',\n",
       "  'lane': 'BOTTOM'},\n",
       " {'platformId': 'NA1',\n",
       "  'gameId': 3840346456,\n",
       "  'champion': 145,\n",
       "  'queue': 420,\n",
       "  'season': 13,\n",
       "  'timestamp': 1616652455758,\n",
       "  'role': 'DUO',\n",
       "  'lane': 'NONE'},\n",
       " {'platformId': 'NA1',\n",
       "  'gameId': 3840329545,\n",
       "  'champion': 202,\n",
       "  'queue': 420,\n",
       "  'season': 13,\n",
       "  'timestamp': 1616650246206,\n",
       "  'role': 'SOLO',\n",
       "  'lane': 'BOTTOM'},\n",
       " {'platformId': 'NA1',\n",
       "  'gameId': 3840336122,\n",
       "  'champion': 145,\n",
       "  'queue': 420,\n",
       "  'season': 13,\n",
       "  'timestamp': 1616648959452,\n",
       "  'role': 'DUO',\n",
       "  'lane': 'NONE'},\n",
       " {'platformId': 'NA1',\n",
       "  'gameId': 3840063423,\n",
       "  'champion': 81,\n",
       "  'queue': 420,\n",
       "  'season': 13,\n",
       "  'timestamp': 1616639971943,\n",
       "  'role': 'DUO',\n",
       "  'lane': 'NONE'},\n",
       " {'platformId': 'NA1',\n",
       "  'gameId': 3839147563,\n",
       "  'champion': 18,\n",
       "  'queue': 420,\n",
       "  'season': 13,\n",
       "  'timestamp': 1616572039283,\n",
       "  'role': 'DUO_CARRY',\n",
       "  'lane': 'BOTTOM'},\n",
       " {'platformId': 'NA1',\n",
       "  'gameId': 3839125114,\n",
       "  'champion': 235,\n",
       "  'queue': 420,\n",
       "  'season': 13,\n",
       "  'timestamp': 1616569789825,\n",
       "  'role': 'DUO_SUPPORT',\n",
       "  'lane': 'BOTTOM'},\n",
       " {'platformId': 'NA1',\n",
       "  'gameId': 3839102527,\n",
       "  'champion': 18,\n",
       "  'queue': 420,\n",
       "  'season': 13,\n",
       "  'timestamp': 1616567737041,\n",
       "  'role': 'DUO_CARRY',\n",
       "  'lane': 'BOTTOM'},\n",
       " {'platformId': 'NA1',\n",
       "  'gameId': 3839013728,\n",
       "  'champion': 235,\n",
       "  'queue': 420,\n",
       "  'season': 13,\n",
       "  'timestamp': 1616563210368,\n",
       "  'role': 'DUO_SUPPORT',\n",
       "  'lane': 'BOTTOM'},\n",
       " {'platformId': 'NA1',\n",
       "  'gameId': 3838957763,\n",
       "  'champion': 67,\n",
       "  'queue': 420,\n",
       "  'season': 13,\n",
       "  'timestamp': 1616561009787,\n",
       "  'role': 'DUO_CARRY',\n",
       "  'lane': 'BOTTOM'},\n",
       " {'platformId': 'NA1',\n",
       "  'gameId': 3838981519,\n",
       "  'champion': 18,\n",
       "  'queue': 420,\n",
       "  'season': 13,\n",
       "  'timestamp': 1616559040730,\n",
       "  'role': 'DUO_CARRY',\n",
       "  'lane': 'BOTTOM'},\n",
       " {'platformId': 'NA1',\n",
       "  'gameId': 3838884363,\n",
       "  'champion': 235,\n",
       "  'queue': 420,\n",
       "  'season': 13,\n",
       "  'timestamp': 1616556175255,\n",
       "  'role': 'DUO_SUPPORT',\n",
       "  'lane': 'BOTTOM'},\n",
       " {'platformId': 'NA1',\n",
       "  'gameId': 3838843828,\n",
       "  'champion': 498,\n",
       "  'queue': 420,\n",
       "  'season': 13,\n",
       "  'timestamp': 1616552946986,\n",
       "  'role': 'DUO_CARRY',\n",
       "  'lane': 'BOTTOM'},\n",
       " {'platformId': 'NA1',\n",
       "  'gameId': 3838784038,\n",
       "  'champion': 412,\n",
       "  'queue': 420,\n",
       "  'season': 13,\n",
       "  'timestamp': 1616549739757,\n",
       "  'role': 'DUO_SUPPORT',\n",
       "  'lane': 'BOTTOM'},\n",
       " {'platformId': 'NA1',\n",
       "  'gameId': 3837719474,\n",
       "  'champion': 360,\n",
       "  'queue': 420,\n",
       "  'season': 13,\n",
       "  'timestamp': 1616477721210,\n",
       "  'role': 'DUO_CARRY',\n",
       "  'lane': 'BOTTOM'},\n",
       " {'platformId': 'NA1',\n",
       "  'gameId': 3833543058,\n",
       "  'champion': 202,\n",
       "  'queue': 420,\n",
       "  'season': 13,\n",
       "  'timestamp': 1616220048592,\n",
       "  'role': 'DUO_CARRY',\n",
       "  'lane': 'BOTTOM'},\n",
       " {'platformId': 'NA1',\n",
       "  'gameId': 3833436542,\n",
       "  'champion': 498,\n",
       "  'queue': 420,\n",
       "  'season': 13,\n",
       "  'timestamp': 1616217775679,\n",
       "  'role': 'DUO_CARRY',\n",
       "  'lane': 'BOTTOM'}]"
      ]
     },
     "execution_count": 107,
     "metadata": {},
     "output_type": "execute_result"
    }
   ],
   "source": [
    "match_lists['matches']"
   ]
  },
  {
   "cell_type": "code",
   "execution_count": 57,
   "metadata": {},
   "outputs": [],
   "source": [
    "def champion_count_list(region, summoner_account_id, total_games):\n",
    "\n",
    "    champion_count={}\n",
    "    for idx in range(0,total_games,100):\n",
    "        if idx+100 > total_games:\n",
    "            match_lists = watcher.match.matchlist_by_account(region, summoner_account_id,queue=[420,440],begin_index=idx, end_index=total_games)\n",
    "        else:\n",
    "            match_lists = watcher.match.matchlist_by_account(region, summoner_account_id,queue=[420,440],begin_index=idx, end_index=idx+100)\n",
    "\n",
    "        for match in match_lists['matches']:\n",
    "            champion_id = match['champion']\n",
    "            champion_name = champion_id\n",
    "            #champion_list[champion_list['Champion_ID']==champion_id].index[0]\n",
    "\n",
    "            if champion_name in champion_count.keys():\n",
    "                champion_count[champion_name] +=1/total_games\n",
    "            else:\n",
    "                champion_count[champion_name] =1/total_games\n",
    "    \n",
    "    return champion_count"
   ]
  },
  {
   "cell_type": "code",
   "execution_count": 58,
   "metadata": {},
   "outputs": [],
   "source": [
    "def create_userVector(champion_count):\n",
    "    matrix = np.zeros((num_items))\n",
    "    \n",
    "    for champion,count in champion_count.items():\n",
    "        champion_id = champions_played_df[champions_played_df.Champion_Name == champion][\"Champion_ID\"].values[0]\n",
    "        matrix[champion_id]=count\n",
    "    return matrix"
   ]
  },
  {
   "cell_type": "code",
   "execution_count": 59,
   "metadata": {},
   "outputs": [],
   "source": [
    "def get_predictions(userVector, iisimilarity):\n",
    "    temp_matrix = np.zeros(userVector.shape)\n",
    "    temp_matrix[userVector.nonzero()] = 1\n",
    "    normalizer = np.matmul(iisimilarity, temp_matrix)\n",
    "    normalizer[normalizer == 0] = 1e-5\n",
    "    \n",
    "    predictionUser = np.matmul(iisimilarity, userVector)/normalizer\n",
    "    \n",
    "    return predictionUser"
   ]
  },
  {
   "cell_type": "code",
   "execution_count": 60,
   "metadata": {},
   "outputs": [],
   "source": [
    "def get_top_n_recs(result, q):\n",
    "    recs = []\n",
    "    for i in range(len(result)):\n",
    "        if q[i] < 0.05: # Recommend if user played < 5% of the time\n",
    "            champ_name = champions_played_df[champions_played_df.Champion_ID == i][\"Champion_Name\"].values[0]\n",
    "            recs.append((champ_name, result[i]))\n",
    "            # recs.append((i, result[i])) #leave this to verify things actually working\n",
    "    recs = sorted(recs, key=lambda tup: tup[1], reverse=True)\n",
    "\n",
    "    return recs"
   ]
  },
  {
   "cell_type": "code",
   "execution_count": 61,
   "metadata": {},
   "outputs": [],
   "source": [
    "def get_recommendations(region, summoner,iisimilarity):\n",
    "    summoner_info = watcher.summoner.by_name(region, summoner)\n",
    "    summoner_id = summoner_info['id']\n",
    "    summoner_account_id = summoner_info['accountId']\n",
    "    \n",
    "    ranked_stats = watcher.league.by_summoner(region,summoner_id)\n",
    "\n",
    "    total_games = get_total_games(region, summoner_id)\n",
    "    \n",
    "    champion_count = champion_count_list(region, summoner_account_id, total_games)\n",
    "    \n",
    "    user_vector = create_userVector((champion_count))\n",
    "    \n",
    "    predictions = get_predictions(user_vector, iisimilarity)\n",
    "    \n",
    "    return get_top_n_recs(predictions, user_vector)"
   ]
  },
  {
   "cell_type": "code",
   "execution_count": 62,
   "metadata": {},
   "outputs": [],
   "source": [
    "iisimilarity = item_cosine_recsys.similarity"
   ]
  }
 ],
 "metadata": {
  "kernelspec": {
   "display_name": "Python 3",
   "language": "python",
   "name": "python3"
  },
  "language_info": {
   "codemirror_mode": {
    "name": "ipython",
    "version": 3
   },
   "file_extension": ".py",
   "mimetype": "text/x-python",
   "name": "python",
   "nbconvert_exporter": "python",
   "pygments_lexer": "ipython3",
   "version": "3.7.6"
  }
 },
 "nbformat": 4,
 "nbformat_minor": 2
}
